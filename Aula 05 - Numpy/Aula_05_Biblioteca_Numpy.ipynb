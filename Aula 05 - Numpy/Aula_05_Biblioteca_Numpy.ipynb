{
  "cells": [
    {
      "cell_type": "markdown",
      "source": [
        "#Numpy"
      ],
      "metadata": {
        "id": "j6VcSf8sKFUD"
      }
    },
    {
      "cell_type": "markdown",
      "source": [
        "https://www.youtube.com/watch?v=DcfYgePyedM"
      ],
      "metadata": {
        "id": "u5VTf-D2KHyL"
      }
    },
    {
      "cell_type": "code",
      "execution_count": 1,
      "metadata": {
        "id": "n0BZJHBIKADG"
      },
      "outputs": [],
      "source": [
        "import numpy as np\n"
      ]
    },
    {
      "cell_type": "markdown",
      "source": [
        "## Criando Arrays"
      ],
      "metadata": {
        "id": "cSQorhemAuIF"
      }
    },
    {
      "cell_type": "code",
      "source": [
        "# Criando um vetor simples\n",
        "a = np.array([1, 2, 3, 4, 5, 6])\n",
        "print(a)\n",
        "print(type(a))"
      ],
      "metadata": {
        "colab": {
          "base_uri": "https://localhost:8080/"
        },
        "id": "y08Vwfg6__MA",
        "outputId": "0c17a711-e964-463b-e385-12156adce9cb"
      },
      "execution_count": 8,
      "outputs": [
        {
          "output_type": "stream",
          "name": "stdout",
          "text": [
            "[1 2 3 4 5 6]\n",
            "<class 'numpy.ndarray'>\n"
          ]
        }
      ]
    },
    {
      "cell_type": "code",
      "source": [
        "#Criando uma matriz simples\n",
        "b = np.array([[1, 2, 3, 4], [5, 6, 7, 8], [9, 10, 11, 12]])\n",
        "print(b)\n",
        "print(np.shape(b))"
      ],
      "metadata": {
        "colab": {
          "base_uri": "https://localhost:8080/"
        },
        "id": "KqJT--vKAOUZ",
        "outputId": "2bc5b4de-5d61-451d-fd49-f6bab4babe4b"
      },
      "execution_count": 11,
      "outputs": [
        {
          "output_type": "stream",
          "name": "stdout",
          "text": [
            "[[ 1  2  3  4]\n",
            " [ 5  6  7  8]\n",
            " [ 9 10 11 12]]\n",
            "(3, 4)\n"
          ]
        }
      ]
    },
    {
      "cell_type": "code",
      "source": [
        "#Vetores de zeros\n",
        "c = np.zeros(10)\n",
        "print(c)\n",
        "d = np.zeros((3,3))\n",
        "print(d)"
      ],
      "metadata": {
        "colab": {
          "base_uri": "https://localhost:8080/"
        },
        "id": "Z9FcVSArBADX",
        "outputId": "5a07a2d3-98f2-49c1-ede6-ef6dbc01d8d1"
      },
      "execution_count": 16,
      "outputs": [
        {
          "output_type": "stream",
          "name": "stdout",
          "text": [
            "[0. 0. 0. 0. 0. 0. 0. 0. 0. 0.]\n",
            "[[0. 0. 0.]\n",
            " [0. 0. 0.]\n",
            " [0. 0. 0.]]\n"
          ]
        }
      ]
    },
    {
      "cell_type": "code",
      "source": [
        "# Vetores de 1\n",
        "np.ones(5)"
      ],
      "metadata": {
        "colab": {
          "base_uri": "https://localhost:8080/"
        },
        "id": "9tbEhdsXBvZP",
        "outputId": "40b6dac5-bd79-4c00-d202-3b0d00dfb3bd"
      },
      "execution_count": 17,
      "outputs": [
        {
          "output_type": "execute_result",
          "data": {
            "text/plain": [
              "array([1., 1., 1., 1., 1.])"
            ]
          },
          "metadata": {},
          "execution_count": 17
        }
      ]
    },
    {
      "cell_type": "code",
      "source": [
        "# Create an empty array with 2 elements\n",
        "np.empty(2) "
      ],
      "metadata": {
        "colab": {
          "base_uri": "https://localhost:8080/"
        },
        "id": "6b3ehjTpBOZO",
        "outputId": "a6bb2011-baa3-4c56-9438-abbb5f1901ce"
      },
      "execution_count": 19,
      "outputs": [
        {
          "output_type": "execute_result",
          "data": {
            "text/plain": [
              "array([0., 0.])"
            ]
          },
          "metadata": {},
          "execution_count": 19
        }
      ]
    },
    {
      "cell_type": "code",
      "source": [
        "# Criando sequencias \n",
        "e = np.arange(10)\n",
        "print(e)\n",
        "f = np.arange(2,9,2)\n",
        "print(f)"
      ],
      "metadata": {
        "colab": {
          "base_uri": "https://localhost:8080/"
        },
        "id": "WwEwzfJMB8Kv",
        "outputId": "36fa7e17-4573-4d91-b885-c025391d1e73"
      },
      "execution_count": 24,
      "outputs": [
        {
          "output_type": "stream",
          "name": "stdout",
          "text": [
            "[0 1 2 3 4 5 6 7 8 9]\n",
            "[2 4 6 8]\n"
          ]
        }
      ]
    },
    {
      "cell_type": "code",
      "source": [
        "# Outra forma de criar vetor sequencial\n",
        "A = np.linspace(0, 10, 5)\n",
        "print(A)\n",
        "B = np.linspace(0, 33, 12)\n",
        "print(B)"
      ],
      "metadata": {
        "colab": {
          "base_uri": "https://localhost:8080/"
        },
        "id": "3R41xPquCO8_",
        "outputId": "f890c04d-15f1-4a8e-9a43-cd0b5cbd3786"
      },
      "execution_count": 29,
      "outputs": [
        {
          "output_type": "stream",
          "name": "stdout",
          "text": [
            "[ 0.   2.5  5.   7.5 10. ]\n",
            "[ 0.  3.  6.  9. 12. 15. 18. 21. 24. 27. 30. 33.]\n"
          ]
        }
      ]
    },
    {
      "cell_type": "code",
      "source": [
        "# Números aleatórios de 0 a 1\n",
        "a4 = np.random.random(10)\n",
        "print(a4)"
      ],
      "metadata": {
        "colab": {
          "base_uri": "https://localhost:8080/"
        },
        "id": "lbEaL-OSCscu",
        "outputId": "561d2bb9-9385-4451-ad57-a20ca2ad157b"
      },
      "execution_count": 31,
      "outputs": [
        {
          "output_type": "stream",
          "name": "stdout",
          "text": [
            "[0.25872477 0.08844344 0.87968942 0.48499276 0.01215796 0.55152505\n",
            " 0.01142555 0.77707658 0.23422483 0.0503854 ]\n"
          ]
        }
      ]
    },
    {
      "cell_type": "code",
      "source": [
        "a5 = np.random.randn(10)\n",
        "print(a5)"
      ],
      "metadata": {
        "colab": {
          "base_uri": "https://localhost:8080/"
        },
        "id": "mj-wb-GxCv8v",
        "outputId": "fac3d5cc-4641-4d2b-9842-65254ebaf8f6"
      },
      "execution_count": 32,
      "outputs": [
        {
          "output_type": "stream",
          "name": "stdout",
          "text": [
            "[-0.84937238  0.36126718 -0.41320173  1.44927185 -0.28082651 -1.14154834\n",
            "  1.22088062 -1.12018239 -0.61408143 -1.47805953]\n"
          ]
        }
      ]
    },
    {
      "cell_type": "markdown",
      "source": [
        "## Adicionando, removendo e ordenando elementos"
      ],
      "metadata": {
        "id": "MIzSkyeBJlLm"
      }
    },
    {
      "cell_type": "code",
      "source": [
        "arr = np.array([2, 1, 5, 3, 7, 4, 6, 8])"
      ],
      "metadata": {
        "id": "XHXXVyZ-DLQH"
      },
      "execution_count": 33,
      "outputs": []
    },
    {
      "cell_type": "code",
      "source": [
        "# Ordenando o array\n",
        "np.sort(arr)"
      ],
      "metadata": {
        "colab": {
          "base_uri": "https://localhost:8080/"
        },
        "id": "LY0GcMnjJvTm",
        "outputId": "db4e1f29-2ac7-4a59-ba48-4b78893d9004"
      },
      "execution_count": 35,
      "outputs": [
        {
          "output_type": "execute_result",
          "data": {
            "text/plain": [
              "array([1, 2, 3, 4, 5, 6, 7, 8])"
            ]
          },
          "metadata": {},
          "execution_count": 35
        }
      ]
    },
    {
      "cell_type": "code",
      "source": [
        "a = np.array([1, 2, 3, 4, 5])\n",
        "b = np.array([5, 6, 7, 8])"
      ],
      "metadata": {
        "id": "FGQ_SybJKHLO"
      },
      "execution_count": 38,
      "outputs": []
    },
    {
      "cell_type": "code",
      "source": [
        "np.concatenate((a, b))\n"
      ],
      "metadata": {
        "colab": {
          "base_uri": "https://localhost:8080/"
        },
        "id": "itn1grc3KMjG",
        "outputId": "deeea671-f35d-43d6-9f7c-c1aa28fc7f8a"
      },
      "execution_count": 39,
      "outputs": [
        {
          "output_type": "execute_result",
          "data": {
            "text/plain": [
              "array([1, 2, 3, 4, 5, 5, 6, 7, 8])"
            ]
          },
          "metadata": {},
          "execution_count": 39
        }
      ]
    },
    {
      "cell_type": "code",
      "source": [
        "x = np.array([[1, 2], [3, 4]])\n",
        "y = np.array([[5, 6]])"
      ],
      "metadata": {
        "id": "JiQDzt-dKUxN"
      },
      "execution_count": 40,
      "outputs": []
    },
    {
      "cell_type": "code",
      "source": [
        "np.concatenate((x, y))"
      ],
      "metadata": {
        "colab": {
          "base_uri": "https://localhost:8080/"
        },
        "id": "T2D_OgLCKW99",
        "outputId": "fe9dc5bf-530a-4119-d533-21702f91405f"
      },
      "execution_count": 44,
      "outputs": [
        {
          "output_type": "execute_result",
          "data": {
            "text/plain": [
              "array([[1, 2],\n",
              "       [3, 4],\n",
              "       [5, 6]])"
            ]
          },
          "metadata": {},
          "execution_count": 44
        }
      ]
    },
    {
      "cell_type": "code",
      "source": [
        "array_example = np.array([[[0, 1, 2, 3],\n",
        "                           [4, 5, 6, 7]],\n",
        "\n",
        "                          [[0, 1, 2, 3],\n",
        "                           [4, 5, 6, 7]],\n",
        "\n",
        "                          [[0 ,1 ,2, 3],\n",
        "                           [4, 5, 6, 7]]])"
      ],
      "metadata": {
        "id": "jZmeG2lZKnL1"
      },
      "execution_count": 45,
      "outputs": []
    },
    {
      "cell_type": "code",
      "source": [
        "print(array_example.ndim)\n",
        "print(array_example.size)\n",
        "print(array_example.shape)"
      ],
      "metadata": {
        "colab": {
          "base_uri": "https://localhost:8080/"
        },
        "id": "mYZaeuEpKpIl",
        "outputId": "3b4ba541-2f67-49e6-db21-72103509e1d0"
      },
      "execution_count": 47,
      "outputs": [
        {
          "output_type": "stream",
          "name": "stdout",
          "text": [
            "3\n",
            "24\n",
            "(3, 2, 4)\n"
          ]
        }
      ]
    },
    {
      "cell_type": "code",
      "source": [
        "a = np.array([1,2,3,4])\n",
        "print(a)"
      ],
      "metadata": {
        "colab": {
          "base_uri": "https://localhost:8080/"
        },
        "id": "wN6tMmsHLxes",
        "outputId": "9d857063-4536-454e-a571-27f3721cd2ca"
      },
      "execution_count": 49,
      "outputs": [
        {
          "output_type": "stream",
          "name": "stdout",
          "text": [
            "[1 2 3 4]\n"
          ]
        }
      ]
    },
    {
      "cell_type": "code",
      "source": [
        "b = np.append(a, 5)\n",
        "print(b)"
      ],
      "metadata": {
        "colab": {
          "base_uri": "https://localhost:8080/"
        },
        "id": "bW8FxmHhLx5U",
        "outputId": "a54b35d2-8e13-4a3b-f087-4981a9a55361"
      },
      "execution_count": 52,
      "outputs": [
        {
          "output_type": "stream",
          "name": "stdout",
          "text": [
            "[1 2 3 4 5]\n"
          ]
        }
      ]
    },
    {
      "cell_type": "code",
      "source": [
        "np.delete(b, 4) # deleta o número do elemento (ou sub-array)"
      ],
      "metadata": {
        "colab": {
          "base_uri": "https://localhost:8080/"
        },
        "id": "BJb12R3mL34k",
        "outputId": "1cea733e-95eb-4f88-ed5b-2bcaa277e29d"
      },
      "execution_count": 55,
      "outputs": [
        {
          "output_type": "execute_result",
          "data": {
            "text/plain": [
              "array([1, 2, 3, 4])"
            ]
          },
          "metadata": {},
          "execution_count": 55
        }
      ]
    },
    {
      "cell_type": "code",
      "source": [
        "# Redimensionando\n",
        "a = np.arange(6)\n",
        "print(a)"
      ],
      "metadata": {
        "colab": {
          "base_uri": "https://localhost:8080/"
        },
        "id": "2kzhX6r2MLB0",
        "outputId": "b18b793d-ea9f-4b55-c86f-85eb1e720512"
      },
      "execution_count": 58,
      "outputs": [
        {
          "output_type": "stream",
          "name": "stdout",
          "text": [
            "[0 1 2 3 4 5]\n"
          ]
        }
      ]
    },
    {
      "cell_type": "code",
      "source": [
        "b = a.reshape(3, 2)\n",
        "print(b)"
      ],
      "metadata": {
        "colab": {
          "base_uri": "https://localhost:8080/"
        },
        "id": "6AkHUX0FMeOD",
        "outputId": "f389233b-d28f-4f04-c1a5-7d4f144e759a"
      },
      "execution_count": 59,
      "outputs": [
        {
          "output_type": "stream",
          "name": "stdout",
          "text": [
            "[[0 1]\n",
            " [2 3]\n",
            " [4 5]]\n"
          ]
        }
      ]
    },
    {
      "cell_type": "markdown",
      "source": [
        "# Indexing and slicing\n",
        "https://numpy.org/doc/stable/user/absolute_beginners.html\n",
        "\n",
        "\n",
        "Transposta\n",
        "Matriz identidade\n",
        "Sistemas de equações ordinárias\n",
        "Plot\n",
        "Próxima aula - Matplotlib"
      ],
      "metadata": {
        "id": "9nLQv8nqMsB7"
      }
    },
    {
      "cell_type": "code",
      "source": [],
      "metadata": {
        "id": "7N3wxs3XMgMk"
      },
      "execution_count": null,
      "outputs": []
    }
  ],
  "metadata": {
    "kernelspec": {
      "display_name": "Python 3",
      "language": "python",
      "name": "python3"
    },
    "language_info": {
      "codemirror_mode": {
        "name": "ipython",
        "version": 3
      },
      "file_extension": ".py",
      "mimetype": "text/x-python",
      "name": "python",
      "nbconvert_exporter": "python",
      "pygments_lexer": "ipython3",
      "version": "3.8.5"
    },
    "colab": {
      "provenance": []
    }
  },
  "nbformat": 4,
  "nbformat_minor": 0
}