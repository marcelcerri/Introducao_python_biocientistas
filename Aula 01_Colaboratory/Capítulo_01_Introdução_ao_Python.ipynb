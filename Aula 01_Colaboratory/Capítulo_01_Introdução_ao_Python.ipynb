{
  "cells": [
    {
      "cell_type": "markdown",
      "metadata": {
        "id": "2kNc720xjwh5"
      },
      "source": [
        "# Introdução à linguagem de programação Python para Biocientistas"
      ]
    },
    {
      "cell_type": "markdown",
      "metadata": {
        "id": "OGP_lT1ljwh7"
      },
      "source": [
        "## Porque Python para Biocientistas?\n"
      ]
    },
    {
      "cell_type": "markdown",
      "metadata": {
        "id": "4pNQ311Sjwh8"
      },
      "source": [
        "Escrever sobre bibliotecas para biocientistas\n",
        "\n",
        "Biopython\n",
        "\n"
      ]
    },
    {
      "cell_type": "markdown",
      "metadata": {
        "id": "j9Y5FF2Qjwh8"
      },
      "source": [
        "## Introdução ao Python"
      ]
    },
    {
      "cell_type": "markdown",
      "metadata": {
        "id": "CcKKuUlpjwh8"
      },
      "source": [
        "### Python"
      ]
    },
    {
      "cell_type": "markdown",
      "metadata": {
        "id": "QHfVo4Zojwh8"
      },
      "source": [
        "Python é uma linguagem de programação interpretada que foi lançada em 1991 e vem ganhando muitos adeptos por já ter uma forte comunidade que trabalha para o desenvolvimento de aplicações, utiliza o modelo comunitário de desenvolvimento e tem licença livre. "
      ]
    },
    {
      "cell_type": "markdown",
      "metadata": {
        "id": "AN2nmcsejwh9"
      },
      "source": [
        "### Anaconda"
      ]
    },
    {
      "cell_type": "markdown",
      "metadata": {
        "id": "R6uiCWtqjwh9"
      },
      "source": [
        "Anaconda é um software de distribuição livre e de código aberto para as linguagens de programação em Python e R, Anaconda facilita muito o trabalho das pessoas que querem aprender a programar em Python ou R, pois já instala mais de 250 pacotes científicos para o usuário sem a necessidade instalação manual.\n",
        "\n",
        "Para instalação da Anaconda entre no site www.anaconda.com/downloads, escolha a versão do Python 3.6 ou 2.7, neste livro utilizaremos a versão 3.6\n",
        "\n",
        "Dentro do software Anaconda contém aplicações com interface gráfica para os usuários, onde facilitará o uso do Python ou R para os usuários.\n",
        "\n",
        "Uma destas aplicações é Jupyter Notebook é um ambiente gráfico para a programação em Python, R e Julia, que pode ser acessado online que o usuário pode programar mesmo online ou instalar o Jupyter Notebook em seu computador. O website é http://jupyter.org/.\n"
      ]
    },
    {
      "cell_type": "markdown",
      "metadata": {
        "id": "CtC9q2Pkjwh9"
      },
      "source": [
        "### Comandos Básicos"
      ]
    },
    {
      "cell_type": "markdown",
      "metadata": {
        "id": "Q7sPnxePjwh9"
      },
      "source": [
        "Em Python a cerquilha (#) é utilizado para comentários do programa, tudo que vem posterior à cerquilha será ignorado pelo Python, serve apenas para explicar ou orientar o programador.\n",
        "A primeira função é o print, que tem a função de imprimir, então temos que escrever print e entres os parênteses colocar o que queremos que o Python imprima.\n"
      ]
    },
    {
      "cell_type": "code",
      "execution_count": null,
      "metadata": {
        "id": "XMV2fEbHjwh-"
      },
      "outputs": [],
      "source": [
        "# Teste"
      ]
    },
    {
      "cell_type": "code",
      "execution_count": null,
      "metadata": {
        "colab": {
          "base_uri": "https://localhost:8080/"
        },
        "id": "f8foj-PIjwh-",
        "outputId": "3fec16fd-46c6-44c0-c2e6-a3aefb67a431"
      },
      "outputs": [
        {
          "output_type": "stream",
          "name": "stdout",
          "text": [
            "Hello World\n"
          ]
        }
      ],
      "source": [
        "# Meu primeiro programa\n",
        "print(\"Hello World\")  # para escrever palavras utilizar aspas duplas ou aspas simples"
      ]
    },
    {
      "cell_type": "code",
      "execution_count": null,
      "metadata": {
        "colab": {
          "base_uri": "https://localhost:8080/"
        },
        "id": "9Fuo7ss4jwh_",
        "outputId": "3ed9e3e3-8ac8-489e-aeb3-0e16e3cbc771"
      },
      "outputs": [
        {
          "output_type": "stream",
          "name": "stdout",
          "text": [
            "Oi\n"
          ]
        }
      ],
      "source": [
        "print('Oi')"
      ]
    },
    {
      "cell_type": "code",
      "execution_count": null,
      "metadata": {
        "colab": {
          "base_uri": "https://localhost:8080/"
        },
        "id": "-Mq0NYfAjwh_",
        "outputId": "85cd0345-5d00-4e88-8b13-08a308fb7c5a"
      },
      "outputs": [
        {
          "output_type": "stream",
          "name": "stdout",
          "text": [
            "Olá Mundo\n"
          ]
        }
      ],
      "source": [
        "# Vamos tentar diferente\n",
        "a = \"Olá \"\n",
        "b = \"Mundo\"\n",
        "print(a + b)"
      ]
    },
    {
      "cell_type": "code",
      "execution_count": null,
      "metadata": {
        "colab": {
          "base_uri": "https://localhost:8080/"
        },
        "id": "q9S-2dzmjwh_",
        "outputId": "81e77d02-e54e-4c92-b1aa-81167ec4cbb2"
      },
      "outputs": [
        {
          "output_type": "execute_result",
          "data": {
            "text/plain": [
              "11"
            ]
          },
          "metadata": {},
          "execution_count": 5
        }
      ],
      "source": [
        "# Contas Simples\n",
        "4 + 7"
      ]
    },
    {
      "cell_type": "code",
      "source": [
        "nome = 'Marcel'\n",
        "idade = 42"
      ],
      "metadata": {
        "id": "AwtiauZLzyLb"
      },
      "execution_count": 3,
      "outputs": []
    },
    {
      "cell_type": "code",
      "source": [
        "print(f'O nome é {nome} e sua idade é {idade} anos')"
      ],
      "metadata": {
        "colab": {
          "base_uri": "https://localhost:8080/"
        },
        "id": "Y4FRSxYWz7Yi",
        "outputId": "a521d057-f05b-4684-af57-1fc6922844e8"
      },
      "execution_count": 4,
      "outputs": [
        {
          "output_type": "stream",
          "name": "stdout",
          "text": [
            "O nome é Marcel e sua idade é 42 anos\n"
          ]
        }
      ]
    },
    {
      "cell_type": "markdown",
      "source": [
        "> Funções Built-in Python\n",
        "https://docs.python.org/3/library/functions.html#print"
      ],
      "metadata": {
        "id": "GTdEV2zDzJOE"
      }
    },
    {
      "cell_type": "markdown",
      "metadata": {
        "id": "_oCmCd7fjwh_"
      },
      "source": [
        "Pode-se também realizar expressões mais complexas com os operadores básicos:\n",
        "\n",
        "Adição (+);\n",
        "\n",
        "Subtração (-) ;\n",
        "\n",
        "Multiplicação (*);\n",
        "\n",
        "Divisão (/)\n",
        "\n",
        "Exponenciação (**) ;\n",
        "\n",
        "Parte inteira da divisão (//)\n",
        "\n",
        "Resto da divisão (%)\n"
      ]
    },
    {
      "cell_type": "code",
      "execution_count": null,
      "metadata": {
        "colab": {
          "base_uri": "https://localhost:8080/"
        },
        "id": "dGqAxexajwh_",
        "outputId": "bc634115-0167-4f14-c67d-4a15b80943d3"
      },
      "outputs": [
        {
          "output_type": "execute_result",
          "data": {
            "text/plain": [
              "3"
            ]
          },
          "metadata": {},
          "execution_count": 6
        }
      ],
      "source": [
        "#Subtração\n",
        "7 - 4"
      ]
    },
    {
      "cell_type": "code",
      "execution_count": null,
      "metadata": {
        "colab": {
          "base_uri": "https://localhost:8080/"
        },
        "id": "PVl5KE2ojwiA",
        "outputId": "449acb20-910e-4ec7-d20d-db3ae910882c"
      },
      "outputs": [
        {
          "output_type": "execute_result",
          "data": {
            "text/plain": [
              "4.0"
            ]
          },
          "metadata": {},
          "execution_count": 7
        }
      ],
      "source": [
        "# Divisão \n",
        "8 / 2"
      ]
    },
    {
      "cell_type": "code",
      "execution_count": null,
      "metadata": {
        "colab": {
          "base_uri": "https://localhost:8080/"
        },
        "id": "6OQSFFT-jwiA",
        "outputId": "9fad46f6-ea6b-4490-f676-10510b915806"
      },
      "outputs": [
        {
          "output_type": "execute_result",
          "data": {
            "text/plain": [
              "77"
            ]
          },
          "metadata": {},
          "execution_count": 8
        }
      ],
      "source": [
        "# Multiplicação\n",
        "11 * 7 "
      ]
    },
    {
      "cell_type": "code",
      "execution_count": null,
      "metadata": {
        "colab": {
          "base_uri": "https://localhost:8080/"
        },
        "id": "I6vr2-YhjwiA",
        "outputId": "cc3d8537-f98f-4dec-ba55-a8e94cb66ec1"
      },
      "outputs": [
        {
          "output_type": "execute_result",
          "data": {
            "text/plain": [
              "64"
            ]
          },
          "metadata": {},
          "execution_count": 9
        }
      ],
      "source": [
        "# Exponenciação\n",
        "8 ** 2"
      ]
    },
    {
      "cell_type": "code",
      "execution_count": null,
      "metadata": {
        "colab": {
          "base_uri": "https://localhost:8080/"
        },
        "id": "GeeQsTR6jwiA",
        "outputId": "dc246cfa-2315-457f-d148-3f668757f9f9"
      },
      "outputs": [
        {
          "output_type": "execute_result",
          "data": {
            "text/plain": [
              "5"
            ]
          },
          "metadata": {},
          "execution_count": 10
        }
      ],
      "source": [
        "# Divisão - Parte Inteira\n",
        "11 // 2"
      ]
    },
    {
      "cell_type": "code",
      "execution_count": null,
      "metadata": {
        "colab": {
          "base_uri": "https://localhost:8080/"
        },
        "id": "iw4o52TLjwiA",
        "outputId": "fb9aad0f-8edd-4ca8-bf64-3cc9a59947cb"
      },
      "outputs": [
        {
          "output_type": "execute_result",
          "data": {
            "text/plain": [
              "1"
            ]
          },
          "metadata": {},
          "execution_count": 11
        }
      ],
      "source": [
        "# Divisão - Resto\n",
        "11 % 2"
      ]
    },
    {
      "cell_type": "markdown",
      "metadata": {
        "id": "fYYlACFpjwiA"
      },
      "source": [
        "### Tipos de Variáveis"
      ]
    },
    {
      "cell_type": "markdown",
      "metadata": {
        "id": "kR92-M5CjwiA"
      },
      "source": [
        "Existem alguns padrões de tipos de dados em Python, que são padrões de dados reconhecidos pela linguagem de programação, normalmente quando possíveis eles são mutáveis, dentro dos padrões numéricos existentes alguns tipos, que são os números inteiros (‘int’), números decimais (‘float’), números complexos (‘complex’) e um subitem dos números inteiros são os booleanos (‘bool’), este último está relacionado com Verdadeiro (‘True’) e Falso (‘False’), o valor Verdadeiro também recebe o valor de 1, e o valor Falso recebe 0.\n",
        "\n",
        "As saídas do exemplo anterior já foram classificadas automaticamente os tipos de dados de acordo com a sua entrada.\n",
        "\n",
        "O comando type retorna o tipo de padrão de dados que a Python classificou.\n"
      ]
    },
    {
      "cell_type": "code",
      "execution_count": null,
      "metadata": {
        "colab": {
          "base_uri": "https://localhost:8080/"
        },
        "id": "z0IcTTfXjwiB",
        "outputId": "58cd18c8-1f85-4445-c82b-6aba9cf16a01"
      },
      "outputs": [
        {
          "output_type": "stream",
          "name": "stdout",
          "text": [
            "<class 'int'>\n"
          ]
        }
      ],
      "source": [
        "a = 7 - 4 \n",
        "print(type(a))"
      ]
    },
    {
      "cell_type": "code",
      "execution_count": null,
      "metadata": {
        "colab": {
          "base_uri": "https://localhost:8080/"
        },
        "id": "SeSWVV_WjwiB",
        "outputId": "666c74f8-aa21-4c88-9edc-e97ac40a9487"
      },
      "outputs": [
        {
          "output_type": "stream",
          "name": "stdout",
          "text": [
            "<class 'float'>\n"
          ]
        }
      ],
      "source": [
        "b = 7 - 4.0\n",
        "print(type(b))"
      ]
    },
    {
      "cell_type": "code",
      "execution_count": null,
      "metadata": {
        "colab": {
          "base_uri": "https://localhost:8080/"
        },
        "id": "atjmHvOPjwiB",
        "outputId": "556d46ba-2ae3-4731-bf13-2905fba90a0b"
      },
      "outputs": [
        {
          "output_type": "stream",
          "name": "stdout",
          "text": [
            "<class 'str'>\n"
          ]
        }
      ],
      "source": [
        "c = \"quatro\"\n",
        "print(type(c))"
      ]
    },
    {
      "cell_type": "code",
      "execution_count": null,
      "metadata": {
        "colab": {
          "base_uri": "https://localhost:8080/"
        },
        "id": "wMUteJHJjwiB",
        "outputId": "c31903ad-286e-4e20-b6a6-5b37adb44d06"
      },
      "outputs": [
        {
          "output_type": "stream",
          "name": "stdout",
          "text": [
            "<class 'complex'>\n"
          ]
        }
      ],
      "source": [
        "d = 4 + 2j\n",
        "print(type(d))"
      ]
    },
    {
      "cell_type": "code",
      "execution_count": null,
      "metadata": {
        "colab": {
          "base_uri": "https://localhost:8080/"
        },
        "id": "sqJbeDwFjwiB",
        "outputId": "ccaeda72-3708-46b0-cfda-507f145c84a1"
      },
      "outputs": [
        {
          "output_type": "stream",
          "name": "stdout",
          "text": [
            "<class 'bool'>\n"
          ]
        }
      ],
      "source": [
        "e = True\n",
        "print(type(e))"
      ]
    },
    {
      "cell_type": "markdown",
      "metadata": {
        "id": "XjQ4E0rMjwiB"
      },
      "source": [
        "### Várias formas de escrever o mesmo programa"
      ]
    },
    {
      "cell_type": "code",
      "execution_count": null,
      "metadata": {
        "colab": {
          "base_uri": "https://localhost:8080/"
        },
        "id": "Gcxwvn4OjwiB",
        "outputId": "1f3728aa-a5ea-46cf-deb7-6665b87218ee"
      },
      "outputs": [
        {
          "output_type": "stream",
          "name": "stdout",
          "text": [
            "5\n"
          ]
        }
      ],
      "source": [
        "a = 2\n",
        "b = 3\n",
        "print (a + b)"
      ]
    },
    {
      "cell_type": "code",
      "execution_count": null,
      "metadata": {
        "colab": {
          "base_uri": "https://localhost:8080/"
        },
        "id": "UcxURCUejwiB",
        "outputId": "c7ae1f56-4b4b-4070-f3bc-e39fa7829568"
      },
      "outputs": [
        {
          "output_type": "stream",
          "name": "stdout",
          "text": [
            "5\n"
          ]
        }
      ],
      "source": [
        "print(2 + 3)"
      ]
    },
    {
      "cell_type": "code",
      "execution_count": null,
      "metadata": {
        "colab": {
          "base_uri": "https://localhost:8080/"
        },
        "id": "e8zWiIkNjwiB",
        "outputId": "fb5fec55-87d4-4adc-c2b2-575c1481266f"
      },
      "outputs": [
        {
          "output_type": "stream",
          "name": "stdout",
          "text": [
            "5\n"
          ]
        }
      ],
      "source": [
        "print(5)"
      ]
    },
    {
      "cell_type": "markdown",
      "metadata": {
        "id": "wWq-3uO7jwiB"
      },
      "source": [
        "### Programa - Cálculo de aumento de salário"
      ]
    },
    {
      "cell_type": "markdown",
      "metadata": {
        "id": "Pj7E9nXIjwiB"
      },
      "source": [
        "Aumento de salário por um percentual"
      ]
    },
    {
      "cell_type": "code",
      "execution_count": null,
      "metadata": {
        "colab": {
          "base_uri": "https://localhost:8080/"
        },
        "id": "BNyHMP12jwiB",
        "outputId": "8057a0c1-2a20-4bd5-b00e-1e747953585b"
      },
      "outputs": [
        {
          "output_type": "stream",
          "name": "stdout",
          "text": [
            "3150.0\n"
          ]
        }
      ],
      "source": [
        "# sal = salário, aum = aumento, n_sal = novo salário\n",
        "sal = 3000\n",
        "aum = 5\n",
        "n_sal = sal + (sal * (aum/100))\n",
        "print(n_sal)"
      ]
    },
    {
      "cell_type": "markdown",
      "metadata": {
        "id": "1BI1zDpyjwiB"
      },
      "source": [
        "### Operadores relacionais"
      ]
    },
    {
      "cell_type": "code",
      "execution_count": null,
      "metadata": {
        "id": "YfGHLUkjjwiC"
      },
      "outputs": [],
      "source": [
        "a = 1\n",
        "b = 5 \n",
        "c = 2\n",
        "d = 1 "
      ]
    },
    {
      "cell_type": "code",
      "execution_count": null,
      "metadata": {
        "colab": {
          "base_uri": "https://localhost:8080/"
        },
        "id": "wrbiFhKjjwiC",
        "outputId": "c607dcaf-2289-4cd0-c441-f9d1302e6cf0"
      },
      "outputs": [
        {
          "output_type": "execute_result",
          "data": {
            "text/plain": [
              "False"
            ]
          },
          "metadata": {},
          "execution_count": 22
        }
      ],
      "source": [
        "a == b # a é igual a b?"
      ]
    },
    {
      "cell_type": "code",
      "execution_count": null,
      "metadata": {
        "colab": {
          "base_uri": "https://localhost:8080/"
        },
        "id": "KzdiV_jbjwiC",
        "outputId": "a4910d4f-f395-4c41-d691-91856ab90b75"
      },
      "outputs": [
        {
          "output_type": "execute_result",
          "data": {
            "text/plain": [
              "True"
            ]
          },
          "metadata": {},
          "execution_count": 23
        }
      ],
      "source": [
        "a < b # a é menor que b?"
      ]
    },
    {
      "cell_type": "code",
      "execution_count": null,
      "metadata": {
        "colab": {
          "base_uri": "https://localhost:8080/"
        },
        "id": "UPLOGhvujwiC",
        "outputId": "19f84fab-06c8-4758-af78-cdc6db4a9f1f"
      },
      "outputs": [
        {
          "output_type": "execute_result",
          "data": {
            "text/plain": [
              "True"
            ]
          },
          "metadata": {},
          "execution_count": 24
        }
      ],
      "source": [
        "b > a # b é maior que a?"
      ]
    },
    {
      "cell_type": "code",
      "execution_count": null,
      "metadata": {
        "colab": {
          "base_uri": "https://localhost:8080/"
        },
        "id": "qrLKaY7djwiC",
        "outputId": "9c93f22e-9750-42e3-e02e-d83545e279b3"
      },
      "outputs": [
        {
          "output_type": "execute_result",
          "data": {
            "text/plain": [
              "True"
            ]
          },
          "metadata": {},
          "execution_count": 25
        }
      ],
      "source": [
        "a == d # a é igual a d?"
      ]
    },
    {
      "cell_type": "code",
      "execution_count": null,
      "metadata": {
        "colab": {
          "base_uri": "https://localhost:8080/"
        },
        "id": "eYPtbk2zjwiC",
        "outputId": "39e1e6e5-d94f-49a2-8ea7-fecc730886ab"
      },
      "outputs": [
        {
          "output_type": "execute_result",
          "data": {
            "text/plain": [
              "True"
            ]
          },
          "metadata": {},
          "execution_count": 26
        }
      ],
      "source": [
        "c <= b # c é menor ou igual a b?"
      ]
    },
    {
      "cell_type": "code",
      "execution_count": null,
      "metadata": {
        "colab": {
          "base_uri": "https://localhost:8080/"
        },
        "id": "HvFeNx83jwiC",
        "outputId": "50de50a5-d718-4f86-ce53-c3d233d5f94b"
      },
      "outputs": [
        {
          "output_type": "execute_result",
          "data": {
            "text/plain": [
              "False"
            ]
          },
          "metadata": {},
          "execution_count": 27
        }
      ],
      "source": [
        "d != a # d é diferente de a ?"
      ]
    },
    {
      "cell_type": "code",
      "execution_count": null,
      "metadata": {
        "colab": {
          "base_uri": "https://localhost:8080/"
        },
        "id": "y3V51gvLjwiC",
        "outputId": "4d4b2d6c-d6d9-488e-bfa2-cc339b0f0130"
      },
      "outputs": [
        {
          "output_type": "execute_result",
          "data": {
            "text/plain": [
              "True"
            ]
          },
          "metadata": {},
          "execution_count": 28
        }
      ],
      "source": [
        "d != b # d é diferente de b?"
      ]
    },
    {
      "cell_type": "markdown",
      "metadata": {
        "id": "kY6mzqWrjwiC"
      },
      "source": [
        "# Aula 02"
      ]
    },
    {
      "cell_type": "markdown",
      "metadata": {
        "id": "zCu-KE0pjwiC"
      },
      "source": [
        "### Operadores lógicos"
      ]
    },
    {
      "cell_type": "code",
      "execution_count": null,
      "metadata": {
        "colab": {
          "base_uri": "https://localhost:8080/"
        },
        "id": "9bP-Bx-IjwiC",
        "outputId": "07eb8c8f-ae5b-456e-b473-9aa3e497b99f"
      },
      "outputs": [
        {
          "output_type": "execute_result",
          "data": {
            "text/plain": [
              "False"
            ]
          },
          "metadata": {},
          "execution_count": 29
        }
      ],
      "source": [
        "not True"
      ]
    },
    {
      "cell_type": "code",
      "execution_count": null,
      "metadata": {
        "colab": {
          "base_uri": "https://localhost:8080/"
        },
        "id": "iB-kWUDpjwiC",
        "outputId": "c4c3c7af-12c3-481d-b8c4-19ac8dee1563"
      },
      "outputs": [
        {
          "output_type": "execute_result",
          "data": {
            "text/plain": [
              "True"
            ]
          },
          "metadata": {},
          "execution_count": 30
        }
      ],
      "source": [
        "not False"
      ]
    },
    {
      "cell_type": "code",
      "execution_count": null,
      "metadata": {
        "colab": {
          "base_uri": "https://localhost:8080/"
        },
        "id": "ZccurJeMjwiC",
        "outputId": "67dc8e67-6e36-4fb2-bc34-9ce0589b1c91"
      },
      "outputs": [
        {
          "output_type": "execute_result",
          "data": {
            "text/plain": [
              "True"
            ]
          },
          "metadata": {},
          "execution_count": 31
        }
      ],
      "source": [
        "True and True"
      ]
    },
    {
      "cell_type": "code",
      "execution_count": null,
      "metadata": {
        "colab": {
          "base_uri": "https://localhost:8080/"
        },
        "id": "C0x_sEtNjwiC",
        "outputId": "ee793fe8-a54b-4621-cbc6-a14927c38cc4"
      },
      "outputs": [
        {
          "output_type": "execute_result",
          "data": {
            "text/plain": [
              "False"
            ]
          },
          "metadata": {},
          "execution_count": 32
        }
      ],
      "source": [
        "True and False"
      ]
    },
    {
      "cell_type": "code",
      "execution_count": null,
      "metadata": {
        "colab": {
          "base_uri": "https://localhost:8080/"
        },
        "id": "7h8JWZnljwiC",
        "outputId": "bbc249a9-8b6c-4108-942a-9b28dfbb27a4"
      },
      "outputs": [
        {
          "output_type": "execute_result",
          "data": {
            "text/plain": [
              "False"
            ]
          },
          "metadata": {},
          "execution_count": 33
        }
      ],
      "source": [
        "False and False"
      ]
    },
    {
      "cell_type": "code",
      "execution_count": null,
      "metadata": {
        "colab": {
          "base_uri": "https://localhost:8080/"
        },
        "id": "i5T8Wq9LjwiD",
        "outputId": "93583a31-f132-457d-bded-f80647c699fa"
      },
      "outputs": [
        {
          "output_type": "execute_result",
          "data": {
            "text/plain": [
              "False"
            ]
          },
          "metadata": {},
          "execution_count": 34
        }
      ],
      "source": [
        "False and True"
      ]
    },
    {
      "cell_type": "code",
      "execution_count": null,
      "metadata": {
        "colab": {
          "base_uri": "https://localhost:8080/"
        },
        "id": "SsEZ9uqojwiD",
        "outputId": "3c286103-435b-4ac1-c0fe-3b4573767184"
      },
      "outputs": [
        {
          "output_type": "execute_result",
          "data": {
            "text/plain": [
              "True"
            ]
          },
          "metadata": {},
          "execution_count": 35
        }
      ],
      "source": [
        "True or False"
      ]
    },
    {
      "cell_type": "code",
      "execution_count": null,
      "metadata": {
        "colab": {
          "base_uri": "https://localhost:8080/"
        },
        "id": "pAGB4cKVjwiD",
        "outputId": "3dd619e7-f5f4-421c-8461-e0de9e78c3f8"
      },
      "outputs": [
        {
          "output_type": "execute_result",
          "data": {
            "text/plain": [
              "True"
            ]
          },
          "metadata": {},
          "execution_count": 36
        }
      ],
      "source": [
        "True or True"
      ]
    },
    {
      "cell_type": "code",
      "execution_count": null,
      "metadata": {
        "colab": {
          "base_uri": "https://localhost:8080/"
        },
        "id": "wBmwC83ajwiD",
        "outputId": "5e539ac7-3d60-4225-80ee-c5669803b570"
      },
      "outputs": [
        {
          "output_type": "execute_result",
          "data": {
            "text/plain": [
              "True"
            ]
          },
          "metadata": {},
          "execution_count": 37
        }
      ],
      "source": [
        "False or True"
      ]
    },
    {
      "cell_type": "code",
      "execution_count": null,
      "metadata": {
        "colab": {
          "base_uri": "https://localhost:8080/"
        },
        "id": "GQ-Vic3rjwiD",
        "outputId": "16046871-f9a6-439f-86f7-f78043db75dc"
      },
      "outputs": [
        {
          "output_type": "execute_result",
          "data": {
            "text/plain": [
              "False"
            ]
          },
          "metadata": {},
          "execution_count": 38
        }
      ],
      "source": [
        "False or False"
      ]
    },
    {
      "cell_type": "markdown",
      "metadata": {
        "id": "rw9HOxOTjwiD"
      },
      "source": [
        "Teste que o salário tem que ser maior que 1000 e ter idade maior que 18 anos"
      ]
    },
    {
      "cell_type": "code",
      "execution_count": null,
      "metadata": {
        "colab": {
          "base_uri": "https://localhost:8080/"
        },
        "id": "azq1gbeZjwiD",
        "outputId": "991df7b1-0cda-4934-e758-2de197f52a12"
      },
      "outputs": [
        {
          "output_type": "execute_result",
          "data": {
            "text/plain": [
              "True"
            ]
          },
          "metadata": {},
          "execution_count": 39
        }
      ],
      "source": [
        "salario = 1500\n",
        "idade = 18\n",
        "salario > 1000 and idade >= 18"
      ]
    },
    {
      "cell_type": "code",
      "execution_count": null,
      "metadata": {
        "colab": {
          "base_uri": "https://localhost:8080/"
        },
        "id": "BSagtbZSjwiD",
        "outputId": "2f5115ec-eb3d-4146-b4c6-cd3e038dc264"
      },
      "outputs": [
        {
          "output_type": "execute_result",
          "data": {
            "text/plain": [
              "False"
            ]
          },
          "metadata": {},
          "execution_count": 40
        }
      ],
      "source": [
        "salario = 1500\n",
        "idade = 17\n",
        "salario > 1000 and idade >= 18"
      ]
    },
    {
      "cell_type": "markdown",
      "metadata": {
        "id": "Gf8w8dwWjwiD"
      },
      "source": [
        "### Variáveis string"
      ]
    },
    {
      "cell_type": "markdown",
      "metadata": {
        "id": "JBMXW-HDjwiD"
      },
      "source": [
        "A função len retorna o tamanho da string, um número inteiro, para ver a documentação aperte o botão shift + Tab"
      ]
    },
    {
      "cell_type": "code",
      "execution_count": null,
      "metadata": {
        "scrolled": true,
        "colab": {
          "base_uri": "https://localhost:8080/"
        },
        "id": "wRdrR_y5jwiD",
        "outputId": "0013e4d3-63ed-47ef-9550-b4b282dbb9e5"
      },
      "outputs": [
        {
          "output_type": "execute_result",
          "data": {
            "text/plain": [
              "1"
            ]
          },
          "metadata": {},
          "execution_count": 41
        }
      ],
      "source": [
        "len(\"A\")"
      ]
    },
    {
      "cell_type": "code",
      "execution_count": null,
      "metadata": {
        "colab": {
          "base_uri": "https://localhost:8080/"
        },
        "id": "kJ5xHjv1jwiD",
        "outputId": "1fc89b19-79c7-4410-daff-ae3215375bb1"
      },
      "outputs": [
        {
          "output_type": "execute_result",
          "data": {
            "text/plain": [
              "2"
            ]
          },
          "metadata": {},
          "execution_count": 42
        }
      ],
      "source": [
        "len(\"AB\")"
      ]
    },
    {
      "cell_type": "code",
      "execution_count": null,
      "metadata": {
        "colab": {
          "base_uri": "https://localhost:8080/"
        },
        "id": "0HT6SyfCjwiD",
        "outputId": "1a496b5f-e63a-4e9b-de49-f87700739f92"
      },
      "outputs": [
        {
          "output_type": "execute_result",
          "data": {
            "text/plain": [
              "19"
            ]
          },
          "metadata": {},
          "execution_count": 43
        }
      ],
      "source": [
        "len(\"o rato roeu a roupa\")"
      ]
    },
    {
      "cell_type": "code",
      "execution_count": null,
      "metadata": {
        "id": "WFM3kh0AjwiE"
      },
      "outputs": [],
      "source": [
        "a = \"ABCDEF\""
      ]
    },
    {
      "cell_type": "code",
      "execution_count": null,
      "metadata": {
        "colab": {
          "base_uri": "https://localhost:8080/",
          "height": 35
        },
        "id": "Vdg3H1XijwiE",
        "outputId": "e8e6026f-f30d-450f-8951-4e8d3c740c5e"
      },
      "outputs": [
        {
          "output_type": "execute_result",
          "data": {
            "text/plain": [
              "'A'"
            ],
            "application/vnd.google.colaboratory.intrinsic+json": {
              "type": "string"
            }
          },
          "metadata": {},
          "execution_count": 45
        }
      ],
      "source": [
        "a[0]"
      ]
    },
    {
      "cell_type": "code",
      "execution_count": null,
      "metadata": {
        "colab": {
          "base_uri": "https://localhost:8080/",
          "height": 35
        },
        "id": "JI8lqrvMjwiE",
        "outputId": "5e139622-949f-4428-91e4-3506d0c9cac0"
      },
      "outputs": [
        {
          "output_type": "execute_result",
          "data": {
            "text/plain": [
              "'B'"
            ],
            "application/vnd.google.colaboratory.intrinsic+json": {
              "type": "string"
            }
          },
          "metadata": {},
          "execution_count": 46
        }
      ],
      "source": [
        "a[1]"
      ]
    },
    {
      "cell_type": "code",
      "execution_count": null,
      "metadata": {
        "colab": {
          "base_uri": "https://localhost:8080/",
          "height": 165
        },
        "id": "XrjdetUvjwiE",
        "outputId": "5ebd8557-8f49-4c6f-af61-a2dea7cde92c"
      },
      "outputs": [
        {
          "output_type": "error",
          "ename": "IndexError",
          "evalue": "ignored",
          "traceback": [
            "\u001b[0;31m---------------------------------------------------------------------------\u001b[0m",
            "\u001b[0;31mIndexError\u001b[0m                                Traceback (most recent call last)",
            "\u001b[0;32m<ipython-input-47-84c1e027215d>\u001b[0m in \u001b[0;36m<module>\u001b[0;34m\u001b[0m\n\u001b[0;32m----> 1\u001b[0;31m \u001b[0ma\u001b[0m\u001b[0;34m[\u001b[0m\u001b[0;36m6\u001b[0m\u001b[0;34m]\u001b[0m\u001b[0;34m\u001b[0m\u001b[0;34m\u001b[0m\u001b[0m\n\u001b[0m",
            "\u001b[0;31mIndexError\u001b[0m: string index out of range"
          ]
        }
      ],
      "source": [
        "a[6]"
      ]
    },
    {
      "cell_type": "code",
      "execution_count": null,
      "metadata": {
        "colab": {
          "base_uri": "https://localhost:8080/",
          "height": 35
        },
        "id": "MwpO_yZgjwiE",
        "outputId": "5f086579-47a4-472e-9653-e77e55b79714"
      },
      "outputs": [
        {
          "output_type": "execute_result",
          "data": {
            "text/plain": [
              "'F'"
            ],
            "application/vnd.google.colaboratory.intrinsic+json": {
              "type": "string"
            }
          },
          "metadata": {},
          "execution_count": 48
        }
      ],
      "source": [
        "a[-1]"
      ]
    },
    {
      "cell_type": "code",
      "execution_count": null,
      "metadata": {
        "colab": {
          "base_uri": "https://localhost:8080/",
          "height": 35
        },
        "id": "_hRkNDnHjwiE",
        "outputId": "0e33e26a-4f10-45ed-8693-0af828e3c7ec"
      },
      "outputs": [
        {
          "output_type": "execute_result",
          "data": {
            "text/plain": [
              "'E'"
            ],
            "application/vnd.google.colaboratory.intrinsic+json": {
              "type": "string"
            }
          },
          "metadata": {},
          "execution_count": 49
        }
      ],
      "source": [
        "a[-2]"
      ]
    },
    {
      "cell_type": "code",
      "execution_count": null,
      "metadata": {
        "colab": {
          "base_uri": "https://localhost:8080/",
          "height": 35
        },
        "id": "ZQlv23kzjwiE",
        "outputId": "c9988b5a-9838-42b9-a314-5f4f1790f388"
      },
      "outputs": [
        {
          "output_type": "execute_result",
          "data": {
            "text/plain": [
              "'ABCDEF'"
            ],
            "application/vnd.google.colaboratory.intrinsic+json": {
              "type": "string"
            }
          },
          "metadata": {},
          "execution_count": 50
        }
      ],
      "source": [
        "a[:]"
      ]
    },
    {
      "cell_type": "code",
      "execution_count": null,
      "metadata": {
        "colab": {
          "base_uri": "https://localhost:8080/",
          "height": 35
        },
        "id": "4dpXLd6MjwiE",
        "outputId": "4393489c-41dc-4dd5-b903-03681db9eb6f"
      },
      "outputs": [
        {
          "output_type": "execute_result",
          "data": {
            "text/plain": [
              "'ABCDEF'"
            ],
            "application/vnd.google.colaboratory.intrinsic+json": {
              "type": "string"
            }
          },
          "metadata": {},
          "execution_count": 51
        }
      ],
      "source": [
        "a[0:6]"
      ]
    },
    {
      "cell_type": "code",
      "execution_count": null,
      "metadata": {
        "colab": {
          "base_uri": "https://localhost:8080/",
          "height": 35
        },
        "id": "ExoVUoFZjwiF",
        "outputId": "2d562161-c41d-4775-df06-6632901066b9"
      },
      "outputs": [
        {
          "output_type": "execute_result",
          "data": {
            "text/plain": [
              "'ABC'"
            ],
            "application/vnd.google.colaboratory.intrinsic+json": {
              "type": "string"
            }
          },
          "metadata": {},
          "execution_count": 52
        }
      ],
      "source": [
        "a[0:3]"
      ]
    },
    {
      "cell_type": "code",
      "execution_count": null,
      "metadata": {
        "colab": {
          "base_uri": "https://localhost:8080/",
          "height": 35
        },
        "id": "4PZP0g1kjwiF",
        "outputId": "6f37ca6d-8666-46fd-e83f-9e73687dfaab"
      },
      "outputs": [
        {
          "output_type": "execute_result",
          "data": {
            "text/plain": [
              "'CDEF'"
            ],
            "application/vnd.google.colaboratory.intrinsic+json": {
              "type": "string"
            }
          },
          "metadata": {},
          "execution_count": 54
        }
      ],
      "source": [
        "a[2:6]"
      ]
    },
    {
      "cell_type": "markdown",
      "metadata": {
        "id": "YphbYx1gjwiF"
      },
      "source": [
        "### Concatenação"
      ]
    },
    {
      "cell_type": "code",
      "execution_count": null,
      "metadata": {
        "colab": {
          "base_uri": "https://localhost:8080/",
          "height": 35
        },
        "id": "ifhQE4LUjwiF",
        "outputId": "7b506bbe-3bd1-4751-f96e-4366fb34ed6c"
      },
      "outputs": [
        {
          "output_type": "execute_result",
          "data": {
            "text/plain": [
              "'ABCC'"
            ],
            "application/vnd.google.colaboratory.intrinsic+json": {
              "type": "string"
            }
          },
          "metadata": {},
          "execution_count": 55
        }
      ],
      "source": [
        "s = \"ABC\"\n",
        "s + \"C\""
      ]
    },
    {
      "cell_type": "code",
      "execution_count": null,
      "metadata": {
        "colab": {
          "base_uri": "https://localhost:8080/",
          "height": 35
        },
        "id": "2DiIeduWjwiF",
        "outputId": "757847c3-5886-41a6-a26a-4eb3d09548bc"
      },
      "outputs": [
        {
          "output_type": "execute_result",
          "data": {
            "text/plain": [
              "'ABCDDDD'"
            ],
            "application/vnd.google.colaboratory.intrinsic+json": {
              "type": "string"
            }
          },
          "metadata": {},
          "execution_count": 56
        }
      ],
      "source": [
        "s + \"D\" * 4"
      ]
    },
    {
      "cell_type": "code",
      "execution_count": null,
      "metadata": {
        "colab": {
          "base_uri": "https://localhost:8080/",
          "height": 35
        },
        "id": "ricFrUy3jwiF",
        "outputId": "ab6c0340-135f-4dcc-df78-d98b0a24ec55"
      },
      "outputs": [
        {
          "output_type": "execute_result",
          "data": {
            "text/plain": [
              "'X----------X'"
            ],
            "application/vnd.google.colaboratory.intrinsic+json": {
              "type": "string"
            }
          },
          "metadata": {},
          "execution_count": 57
        }
      ],
      "source": [
        "\"X\"+ \"-\"*10 + \"X\""
      ]
    },
    {
      "cell_type": "markdown",
      "metadata": {
        "id": "-w-dp9q9jwiF"
      },
      "source": [
        "Esta forma de concatenação só pode ser utilizado por strings"
      ]
    },
    {
      "cell_type": "markdown",
      "metadata": {
        "id": "GTb9VrZXjwiF"
      },
      "source": [
        "### Composição"
      ]
    },
    {
      "cell_type": "code",
      "execution_count": null,
      "metadata": {
        "colab": {
          "base_uri": "https://localhost:8080/",
          "height": 35
        },
        "id": "BVNGKRHRjwiF",
        "outputId": "2324692a-8f09-4095-97fa-f1678b700ba3"
      },
      "outputs": [
        {
          "output_type": "execute_result",
          "data": {
            "text/plain": [
              "'João tem 39 anos'"
            ],
            "application/vnd.google.colaboratory.intrinsic+json": {
              "type": "string"
            }
          },
          "metadata": {},
          "execution_count": 58
        }
      ],
      "source": [
        "idade = 39\n",
        "\"João tem %d anos\" % idade #estamos inserindo %d para um valor inteiro"
      ]
    },
    {
      "cell_type": "code",
      "execution_count": null,
      "metadata": {
        "colab": {
          "base_uri": "https://localhost:8080/",
          "height": 35
        },
        "id": "2TI3M10XjwiF",
        "outputId": "34b5d5a8-ca49-4896-bca6-9eeb85d14deb"
      },
      "outputs": [
        {
          "output_type": "execute_result",
          "data": {
            "text/plain": [
              "'João tem 39.000000 anos'"
            ],
            "application/vnd.google.colaboratory.intrinsic+json": {
              "type": "string"
            }
          },
          "metadata": {},
          "execution_count": 59
        }
      ],
      "source": [
        "idade = 39\n",
        "\"João tem %f anos\" % idade # estamos inserindo %f para um valor flutuante"
      ]
    },
    {
      "cell_type": "code",
      "execution_count": null,
      "metadata": {
        "colab": {
          "base_uri": "https://localhost:8080/",
          "height": 35
        },
        "id": "HZEIjAYijwiF",
        "outputId": "f84d77f1-92d9-424f-db62-c6adb8e33c5d"
      },
      "outputs": [
        {
          "output_type": "execute_result",
          "data": {
            "text/plain": [
              "'João tem 39.00 anos'"
            ],
            "application/vnd.google.colaboratory.intrinsic+json": {
              "type": "string"
            }
          },
          "metadata": {},
          "execution_count": 60
        }
      ],
      "source": [
        "idade = 39.\n",
        "\"João tem %2.2f anos\" % idade # estamos inserindo %f para um valor flutuante"
      ]
    },
    {
      "cell_type": "code",
      "execution_count": null,
      "metadata": {
        "colab": {
          "base_uri": "https://localhost:8080/",
          "height": 35
        },
        "id": "mGMben2UjwiF",
        "outputId": "ba066181-cd85-4fda-b87f-ca97aea15b95"
      },
      "outputs": [
        {
          "output_type": "execute_result",
          "data": {
            "text/plain": [
              "'João tem 39 anos'"
            ],
            "application/vnd.google.colaboratory.intrinsic+json": {
              "type": "string"
            }
          },
          "metadata": {},
          "execution_count": 61
        }
      ],
      "source": [
        "nome = \"João\"\n",
        "idade = 39\n",
        "\"%s tem %d anos\" % (nome,idade) # estamos inserindo %s para um string"
      ]
    },
    {
      "cell_type": "code",
      "execution_count": null,
      "metadata": {
        "colab": {
          "base_uri": "https://localhost:8080/",
          "height": 35
        },
        "id": "qDURQ79ojwiF",
        "outputId": "c0d6ed3f-6bbd-4bc7-965a-c9b0c7a9f0c4"
      },
      "outputs": [
        {
          "output_type": "execute_result",
          "data": {
            "text/plain": [
              "'João tem 39 anos e R$ 60.59 no bolso'"
            ],
            "application/vnd.google.colaboratory.intrinsic+json": {
              "type": "string"
            }
          },
          "metadata": {},
          "execution_count": 62
        }
      ],
      "source": [
        "nome = \"João\"\n",
        "idade = 39\n",
        "grana = 60.59\n",
        "\"%s tem %d anos e R$ %2.2f no bolso\" %(nome,idade, grana)"
      ]
    },
    {
      "cell_type": "markdown",
      "metadata": {
        "id": "h088t0SojwiF"
      },
      "source": [
        "Forma mais moderna para compor a frase é utilizando format"
      ]
    },
    {
      "cell_type": "code",
      "execution_count": null,
      "metadata": {
        "colab": {
          "base_uri": "https://localhost:8080/",
          "height": 35
        },
        "id": "gRvIQtAujwiF",
        "outputId": "7b8846b8-201c-4eba-c09c-159f6942fc1c"
      },
      "outputs": [
        {
          "output_type": "execute_result",
          "data": {
            "text/plain": [
              "'João tem 39 anos e R$ 60.59 no bolso'"
            ],
            "application/vnd.google.colaboratory.intrinsic+json": {
              "type": "string"
            }
          },
          "metadata": {},
          "execution_count": 63
        }
      ],
      "source": [
        "nome = \"João\"\n",
        "idade = 39\n",
        "grana = 60.59\n",
        "\"{} tem {} anos e R$ {} no bolso\" .format(nome , idade , grana)"
      ]
    },
    {
      "cell_type": "code",
      "execution_count": null,
      "metadata": {
        "colab": {
          "base_uri": "https://localhost:8080/",
          "height": 35
        },
        "id": "GcGEiAL8jwiG",
        "outputId": "0b0a2873-85e3-4ae3-c8ca-9d1862cc6caa"
      },
      "outputs": [
        {
          "output_type": "execute_result",
          "data": {
            "text/plain": [
              "'João tem 39 anos e R$ 60.59 no bolso'"
            ],
            "application/vnd.google.colaboratory.intrinsic+json": {
              "type": "string"
            }
          },
          "metadata": {},
          "execution_count": 64
        }
      ],
      "source": [
        "nome = \"João\"\n",
        "idade = 39\n",
        "grana = 60.59\n",
        "\"{} tem {} anos e R$ {} no bolso\" .format(nome , idade , grana)"
      ]
    },
    {
      "cell_type": "markdown",
      "metadata": {
        "id": "daydwU9ljwiG"
      },
      "source": [
        "### Sequência e tempo"
      ]
    },
    {
      "cell_type": "markdown",
      "metadata": {
        "id": "xVQQI9CUjwiG"
      },
      "source": [
        "Um programa é executado linha por linha pelo computador, executando as operações descritas no programa uma após a outra. Quando trabalhamos com variáveis, devemos lembrar de que o conteúdo de uma variável pode variar com o tempo."
      ]
    },
    {
      "cell_type": "code",
      "execution_count": null,
      "metadata": {
        "colab": {
          "base_uri": "https://localhost:8080/"
        },
        "id": "x36CCu4gjwiG",
        "outputId": "65600c37-a79d-4ece-e029-b684fd6e96c6"
      },
      "outputs": [
        {
          "output_type": "stream",
          "name": "stdout",
          "text": [
            "765\n"
          ]
        }
      ],
      "source": [
        "divida = 0\n",
        "compra = 200\n",
        "divida = divida + compra\n",
        "compra = 250\n",
        "divida = divida + compra\n",
        "compra = 315\n",
        "divida = divida + compra\n",
        "compra = 0\n",
        "print(divida)"
      ]
    },
    {
      "cell_type": "markdown",
      "metadata": {
        "id": "Y2FYroTojwiG"
      },
      "source": [
        "### Entrada de dados"
      ]
    },
    {
      "cell_type": "code",
      "execution_count": null,
      "metadata": {
        "id": "POyW5_egjwiG"
      },
      "outputs": [],
      "source": [
        "nome = input(\"Qual é o seu nome?\")\n",
        "print(\"Olá \"+ nome)"
      ]
    },
    {
      "cell_type": "code",
      "execution_count": null,
      "metadata": {
        "id": "vQ2Q4GfCjwiG"
      },
      "outputs": [],
      "source": [
        "x = input(\"Digite um número: \")\n",
        "print(x)"
      ]
    },
    {
      "cell_type": "markdown",
      "metadata": {
        "id": "x5NqEu0BjwiG"
      },
      "source": [
        "### Conversão de entrada de dados"
      ]
    },
    {
      "cell_type": "markdown",
      "metadata": {
        "id": "kWftuO86jwiG"
      },
      "source": [
        "A função input sempre retorna valores do tipo string"
      ]
    },
    {
      "cell_type": "code",
      "execution_count": null,
      "metadata": {
        "id": "glJWqhgrjwiG"
      },
      "outputs": [],
      "source": [
        "anos = int(input(\"Anos de serviço: \"))\n",
        "valor_por_ano = float(input(\"Valor por ano: \"))\n",
        "bonus = anos * valor_por_ano\n",
        "print(\"Bonus de R$ {}\".format(bonus))"
      ]
    },
    {
      "cell_type": "code",
      "execution_count": null,
      "metadata": {
        "id": "fH3UAs8djwiG"
      },
      "outputs": [],
      "source": [
        "help(print)"
      ]
    },
    {
      "cell_type": "markdown",
      "metadata": {
        "id": "vXSUl5SQjwiG"
      },
      "source": [
        "Neste capítulos vimos as funções:\n",
        "\n",
        "print\n",
        "\n",
        "type\n",
        "\n",
        "len\n",
        "\n",
        "input\n",
        "\n",
        "int\n",
        "\n",
        "float\n",
        "\n",
        "help\n",
        "\n",
        "Você pode estudar as funções built-in do Python em sua documentação\n",
        "https://docs.python.org/3/library/functions.html\n"
      ]
    },
    {
      "cell_type": "markdown",
      "metadata": {
        "id": "Wb-mYoR7jwiG"
      },
      "source": [
        "### Exercícios"
      ]
    },
    {
      "cell_type": "markdown",
      "metadata": {
        "id": "Nr1EFGPbjwiH"
      },
      "source": [
        "1 - Escreva um programa que converta uma temperatura digitada em graus Celsius para graus Fahrenheit."
      ]
    },
    {
      "cell_type": "markdown",
      "metadata": {
        "id": "FQoGfbSsjwiH"
      },
      "source": [
        "2 -  Escreva um programa que leia um valor em metros e o exiba convertido em milimetros."
      ]
    },
    {
      "cell_type": "markdown",
      "metadata": {
        "id": "CTGZtVQbjwiH"
      },
      "source": [
        "3- Faça um programa que receba (entrada de dados) o valor correspondente ao lado de um quadrado, calcule e imprima (saída de dados) seu perímetro e sua área."
      ]
    },
    {
      "cell_type": "markdown",
      "metadata": {
        "id": "Op6LGRcRjwiH"
      },
      "source": [
        "4 - Faça um programa que receba quatro notas, calcule e imprima a média aritmética."
      ]
    },
    {
      "cell_type": "markdown",
      "metadata": {
        "id": "u5xPBjoWjwiH"
      },
      "source": [
        "5 - Calcule o índice de massa corporal, entrando com os valores de massa do indíviduo e estatura."
      ]
    },
    {
      "cell_type": "markdown",
      "metadata": {
        "id": "46WWFJ1hjwiH"
      },
      "source": [
        "#### Exercício 1"
      ]
    },
    {
      "cell_type": "code",
      "execution_count": null,
      "metadata": {
        "id": "lWhG1CsbjwiH"
      },
      "outputs": [],
      "source": [
        "# Exercício 1 - Converte graus Celsius em Fahrenheit\n",
        "C = float(input(\"Entre com o valor em graus Celsius: \"))\n",
        "F = ((9 * C)/5)+32\n",
        "print(\"A Temperatura em graus Fahrenheit é {}\".format(F))\n"
      ]
    },
    {
      "cell_type": "code",
      "execution_count": null,
      "metadata": {
        "id": "MpYqKN51jwiH"
      },
      "outputs": [],
      "source": [
        "# Exercício 2 - Converte metros em milimetros\n",
        "M = float(input(\"Entre com o valor da distância em metros: \"))\n",
        "mm = M * 1000\n",
        "print(\"A distância em milimetros é {}\".format(mm))"
      ]
    },
    {
      "cell_type": "code",
      "execution_count": null,
      "metadata": {
        "id": "IznI7lyjjwiH"
      },
      "outputs": [],
      "source": [
        "#Exercício 3 - Calcula o perímetro e área de um quadrado de lado l\n",
        "\n",
        "l = input(\"Entre com o valor do lado do quadrado \")\n",
        "l = int(l)\n",
        "\n",
        "x = l *4\n",
        "y = l*l\n",
        "\n",
        "print('perímetro:', x, '-área:', y)"
      ]
    },
    {
      "cell_type": "code",
      "execution_count": null,
      "metadata": {
        "id": "5hQ3453pjwiI"
      },
      "outputs": [],
      "source": [
        "#Exercício 4 - Faça um programa em Python que receba quatro notas, calcule e imprima a média aritmética.\n",
        "\n",
        "a = input('Entre com o valor da primeira nota')\n",
        "b = input('Entre com o valor da segunda nota')\n",
        "c = input('Entre com o valor da terceira nota')\n",
        "d = input('Entre com o valor da quarta nota')\n",
        "a = float(a)\n",
        "b = float(b)\n",
        "c = float(c)\n",
        "d = float(d)\n",
        "media = (a + b + c + d) / 4\n",
        "print('A média aritmética é', media)\n"
      ]
    },
    {
      "cell_type": "code",
      "execution_count": null,
      "metadata": {
        "id": "VdVsh9ErjwiI"
      },
      "outputs": [],
      "source": [
        "# Exercício 5 - Calcule IMC\n",
        "massa = float(input(\"Entre com o peso em quilogramas: \"))\n",
        "altura = float(input(\"Entre com a estatura em metros: \"))\n",
        "IMC = (massa) / (altura**2)\n",
        "print(\"O índice de massa corporal é {}\".format(IMC))"
      ]
    },
    {
      "cell_type": "markdown",
      "metadata": {
        "id": "WoDZY2pyjwiI"
      },
      "source": [
        "Desafio - Faça um programa em que dada a quantidade de segundos, converta esse valor em dias, horas, minutos e segundos. A saída deve estar no formato: a dias, b horas, c minutos e d segundos."
      ]
    },
    {
      "cell_type": "code",
      "execution_count": null,
      "metadata": {
        "id": "iYzFu71QjwiI"
      },
      "outputs": [],
      "source": [
        "seg = int(input(\"Entre com o tempo em segundos que quer converter: \"))\n",
        "dia = seg // 86400\n",
        "dia_rest = seg % 86400\n",
        "hora = dia_rest // 3600\n",
        "hora_rest = dia_rest % 3600\n",
        "min = hora_rest // 60\n",
        "seg_rest = hora_rest % 60\n",
        "\n",
        "print(dia, \"dias,\", hora, \"horas,\", min, \"minutos e\", seg_rest, \"segundos.\" )"
      ]
    }
  ],
  "metadata": {
    "kernelspec": {
      "display_name": "Python 3",
      "language": "python",
      "name": "python3"
    },
    "language_info": {
      "codemirror_mode": {
        "name": "ipython",
        "version": 3
      },
      "file_extension": ".py",
      "mimetype": "text/x-python",
      "name": "python",
      "nbconvert_exporter": "python",
      "pygments_lexer": "ipython3",
      "version": "3.8.3"
    },
    "colab": {
      "provenance": []
    }
  },
  "nbformat": 4,
  "nbformat_minor": 0
}