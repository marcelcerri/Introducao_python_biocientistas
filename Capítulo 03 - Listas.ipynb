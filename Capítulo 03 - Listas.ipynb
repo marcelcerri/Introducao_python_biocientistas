{
 "cells": [
  {
   "cell_type": "markdown",
   "metadata": {},
   "source": [
    "# Listas"
   ]
  },
  {
   "cell_type": "markdown",
   "metadata": {},
   "source": [
    "Listas são um tipo de variável que permite o armazenamento de vários valores, acessados por um índice"
   ]
  },
  {
   "cell_type": "code",
   "execution_count": 1,
   "metadata": {},
   "outputs": [
    {
     "name": "stdout",
     "output_type": "stream",
     "text": [
      "[]\n"
     ]
    }
   ],
   "source": [
    "L = []\n",
    "print(L)"
   ]
  },
  {
   "cell_type": "code",
   "execution_count": 2,
   "metadata": {},
   "outputs": [
    {
     "name": "stdout",
     "output_type": "stream",
     "text": [
      "15\n",
      "8\n",
      "9\n"
     ]
    }
   ],
   "source": [
    "Z = [15, 8, 9]\n",
    "print(Z[0])\n",
    "print(Z[1])\n",
    "print(Z[2])"
   ]
  },
  {
   "cell_type": "code",
   "execution_count": 3,
   "metadata": {},
   "outputs": [
    {
     "name": "stdout",
     "output_type": "stream",
     "text": [
      "[7, 8, 9]\n"
     ]
    }
   ],
   "source": [
    "Z[0] = 7\n",
    "print(Z)"
   ]
  },
  {
   "cell_type": "code",
   "execution_count": 4,
   "metadata": {},
   "outputs": [
    {
     "name": "stdout",
     "output_type": "stream",
     "text": [
      "7.0\n",
      "Média:  7.00\n"
     ]
    }
   ],
   "source": [
    "#Cálculo da média das notas\n",
    "notas = [6,7,5,8,9]\n",
    "soma = 0\n",
    "i = 0\n",
    "while i < len(notas):\n",
    "    soma = soma + notas[i]\n",
    "    i = i + 1\n",
    "    media = soma/i\n",
    "\n",
    "print(media)\n",
    "print(f'Média: {soma / i:5.2f}')"
   ]
  },
  {
   "cell_type": "code",
   "execution_count": 5,
   "metadata": {},
   "outputs": [
    {
     "name": "stdout",
     "output_type": "stream",
     "text": [
      "Nota: 0:2\n",
      "Nota: 1:5\n",
      "Nota: 2:10\n",
      "Nota: 3:8\n",
      "Nota: 4:5\n",
      "Média:  6.00\n"
     ]
    }
   ],
   "source": [
    "#Cálculo da média com notas digitadas\n",
    "notas = [0,0,0,0,0]\n",
    "soma = 0\n",
    "i = 0\n",
    "\n",
    "while i < len(notas):\n",
    "    notas[i] = float(input(f'Nota: {i}:'))\n",
    "    soma += notas[i]\n",
    "    i += 1\n",
    "    \n",
    "print(f'Média: {soma / i:5.2f}')    "
   ]
  },
  {
   "cell_type": "code",
   "execution_count": null,
   "metadata": {},
   "outputs": [],
   "source": []
  }
 ],
 "metadata": {
  "kernelspec": {
   "display_name": "Python 3",
   "language": "python",
   "name": "python3"
  },
  "language_info": {
   "codemirror_mode": {
    "name": "ipython",
    "version": 3
   },
   "file_extension": ".py",
   "mimetype": "text/x-python",
   "name": "python",
   "nbconvert_exporter": "python",
   "pygments_lexer": "ipython3",
   "version": "3.8.3"
  }
 },
 "nbformat": 4,
 "nbformat_minor": 2
}
