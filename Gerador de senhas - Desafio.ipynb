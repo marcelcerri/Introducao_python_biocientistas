{
 "cells": [
  {
   "cell_type": "markdown",
   "metadata": {},
   "source": [
    "# Gerador de Senhas"
   ]
  },
  {
   "cell_type": "markdown",
   "metadata": {},
   "source": [
    "### Modelo de gerador de senhas - site: https://medium.com/analytics-vidhya/create-a-random-password-generator-using-python-2fea485e9da9"
   ]
  },
  {
   "cell_type": "code",
   "execution_count": null,
   "metadata": {},
   "outputs": [],
   "source": [
    "# Importando as bibliotecas que serão utilizadas\n",
    "import random\n",
    "import string\n",
    "# Abertura do programa e entrada de dados sobre o tamanho da senha\n",
    "print('Olá, Sou o gerador de senhas')\n",
    "tamanho = int(input('Qual é o tamanho da sua senha? '))"
   ]
  },
  {
   "cell_type": "code",
   "execution_count": null,
   "metadata": {},
   "outputs": [],
   "source": [
    "# Carregando os caracteres para gerar as senhas\n",
    "minuscula = string.ascii_lowercase\n",
    "maiuscula = string.ascii_uppercase\n",
    "numeros = string.digits\n",
    "simbolo = string.punctuation"
   ]
  },
  {
   "cell_type": "code",
   "execution_count": null,
   "metadata": {},
   "outputs": [],
   "source": [
    "# Concatenado os caracteres e misturando-os\n",
    "tudo = minuscula + maiuscula + numeros + simbolo\n",
    "temp = random.sample(tudo, tamanho)"
   ]
  },
  {
   "cell_type": "code",
   "execution_count": null,
   "metadata": {},
   "outputs": [],
   "source": [
    "# O temp é uma lista é necessário juntar os elementos com a função join\n",
    "senha = \"\".join(temp)\n",
    "print(senha)"
   ]
  },
  {
   "cell_type": "markdown",
   "metadata": {},
   "source": [
    "### Pequenas modificações - 08/09/2021"
   ]
  },
  {
   "cell_type": "code",
   "execution_count": null,
   "metadata": {},
   "outputs": [],
   "source": [
    "import random\n",
    "import string\n",
    "\n",
    "print('Olá, Sou o gerador de senhas')\n",
    "\n",
    "tamanho = int(input('Qual é o tamanho da sua senha? Número de caracteres '))\n",
    "print(\"\")\n",
    "print(\"Para a senha ter todos os tipos de caracteres - Maíscula, minúscula, números e símbolos - Digite 0\")\n",
    "print(\"Para a senha ter apenas números, Digite 1\")\n",
    "print(\"Para a senha ter caracteres do tipo minúscula e números, Digite 2\")\n",
    "print(\"Para a senha ter caracteres do tipo maiúscula e minúscula, Digite 3\")\n",
    "print(\"Para a senha ter caracteres do tipo minúscula, números e símbolos, Digite 4\")\n",
    "tipo = int(input(\"Qual é o tipo de senha? Digite de 0 a 4 \"))\n",
    "\n",
    "# Carregando os caracteres para gerar as senhas\n",
    "minuscula = string.ascii_lowercase\n",
    "maiuscula = string.ascii_uppercase\n",
    "numeros = string.digits\n",
    "simbolo = string.punctuation\n",
    "\n",
    "if tipo == 0:\n",
    "    tudo = minuscula + maiuscula + numeros + simbolo\n",
    "elif tipo == 1:\n",
    "    tudo = numeros\n",
    "elif tipo == 2:\n",
    "    tudo = minuscula + numeros\n",
    "elif tipo == 3:\n",
    "    tudo = minuscula + maiuscula\n",
    "elif tipo == 4:\n",
    "    tudo = minuscula + numeros + simbolo\n",
    "else:\n",
    "    print(\"Escolha um tipo válido\")\n",
    "    \n",
    "temp = random.choices(tudo, k=tamanho)\n",
    "senha = \"\".join(temp)\n",
    "print(\"A senha é:\")\n",
    "print(senha)"
   ]
  },
  {
   "cell_type": "markdown",
   "metadata": {},
   "source": [
    "### Construir o gerador de senhas usando o tkinter"
   ]
  },
  {
   "cell_type": "markdown",
   "metadata": {},
   "source": [
    "https://medium.com/nerd-for-tech/random-password-generator-using-tkinter-635f61cfaae8"
   ]
  },
  {
   "cell_type": "code",
   "execution_count": 31,
   "metadata": {},
   "outputs": [],
   "source": [
    "from tkinter import *\n",
    "from tkinter.ttk import Combobox\n",
    "import random\n",
    "import string"
   ]
  },
  {
   "cell_type": "code",
   "execution_count": 34,
   "metadata": {},
   "outputs": [],
   "source": [
    "screen = Tk()\n",
    "screen.title(\"Password Generator\")\n",
    "screen.geometry('600x400')\n",
    "screen.configure(background =\"blue\")\n",
    "\n",
    "def gen():\n",
    "    global sc1\n",
    "    sc1.set(\"\")\n",
    "    passw=\"\"\n",
    "    length=int(c1.get())\n",
    "    lowercase='abcdefghijklmnopqrstuvwxyz'\n",
    "    uppercase='ABCDEFGHIJKLMNOPQRSTUVWXYZ'+lowercase\n",
    "    mixs='0123456789'+lowercase+uppercase+'@#$%&*'\n",
    "\n",
    "    if c2.get()=='Low Strength':\n",
    "        for i in range(0,length):\n",
    "            passw=passw+random.choice(lowercase)\n",
    "        sc1.set(passw)\n",
    "    elif c2.get()=='Medium Strength':\n",
    "        for i in range(0,length):\n",
    "            passw=passw+random.choice(uppercase)\n",
    "        sc1.set(passw)\n",
    "    elif c2.get()=='High Strength':\n",
    "        for i in range(0,length):\n",
    "            passw=passw+random.choice(mixs)\n",
    "        sc1.set(passw)\n",
    "\n",
    "sc1=StringVar('')\n",
    "t1=Label(screen,text='Automatic Password Generator',font=('Arial',25),fg='red',background =\"bisque\")\n",
    "t1.place(x=60,y=0)\n",
    "t2=Label(screen,text='password:',font=('Arial',14),background =\"bisque\")\n",
    "t2.place(x=145,y=90)\n",
    "\n",
    "il=Entry(screen,font=('Arial',14),textvariable=sc1)\n",
    "il.place(x=270,y=90)\n",
    "t3=Label(screen,text='Length: ',font=('Arial',14),background =\"bisque\")\n",
    "t3.place(x=145,y=120)\n",
    "\n",
    "t4=Label(screen,text='Strength:',font=('Arial',14),background =\"bisque\")\n",
    "t4.place(x=145,y=155)\n",
    "\n",
    "c1=Entry(screen,font=('Arial',14),width=10)\n",
    "c1.place(x=230,y=120)\n",
    "\n",
    "c2=Combobox(screen,font=('Arial',14),width=15)\n",
    "c2['values']=('Low Strength','Medium Strength','High Strength')\n",
    "c2.current(1)\n",
    "c2.place(x=237,y=155)\n",
    "\n",
    "b=Button(screen,text='Generate',font=('Arial',14),fg='red',background =\"white\",command=gen)\n",
    "b.place(x=230,y=195)\n",
    "\n",
    "\n",
    "screen.mainloop()"
   ]
  },
  {
   "cell_type": "markdown",
   "metadata": {},
   "source": [
    "# Curso de Tkinter - para entender código acima"
   ]
  },
  {
   "cell_type": "markdown",
   "metadata": {},
   "source": [
    "https://www.youtube.com/watch?v=YXPyB4XeYLA&t=2s"
   ]
  },
  {
   "cell_type": "code",
   "execution_count": 4,
   "metadata": {},
   "outputs": [],
   "source": [
    "#Colocando um título - primeiro tutorial\n",
    "from tkinter import *\n",
    "\n",
    "root = Tk()\n",
    "\n",
    "#Criando um título\n",
    "titulo1 = Label(root, text=\"Olá Mundo\").grid(row=0, column=0)\n",
    "titulo2 = Label(root, text=\"Meu nome é Marcel\").grid(row=1, column=0)\n",
    "\n",
    "root.mainloop()"
   ]
  },
  {
   "cell_type": "code",
   "execution_count": 18,
   "metadata": {},
   "outputs": [],
   "source": [
    "# Criando o primeiro botão - segundo tutorial\n",
    "from tkinter import *\n",
    "\n",
    "def clique():\n",
    "    titulo = Label(root, text = \"Olhe! Eu cliquei no botão!!\")\n",
    "    titulo.pack()\n",
    "    \n",
    "#criando um botão\n",
    "\n",
    "root = Tk()\n",
    "botao1 = Button(root, text=\"Clique aqui\",command = clique, padx = 50, pady = 50, fg=\"blue\", bg=\"red\")\n",
    "botao1.pack()\n",
    "\n",
    "root.mainloop()"
   ]
  },
  {
   "cell_type": "code",
   "execution_count": 29,
   "metadata": {},
   "outputs": [],
   "source": [
    "# Criando entrada de dados no tkinter - terceiro tutorial\n",
    "from tkinter import *\n",
    "\n",
    "root = Tk()\n",
    "\n",
    "#Criando uma entrada\n",
    "e = Entry(root, width =50)\n",
    "e.pack()\n",
    "e.insert(0, \"Digite o seu nome\")\n",
    "\n",
    "#Criando uma função\n",
    "def clique():\n",
    "    ola = \"Olá \" + e.get()\n",
    "    titulo = Label(root, text = ola)\n",
    "    titulo.pack()\n",
    "    \n",
    "#criando um botão\n",
    "botao1 = Button(root, text=\"Entre com o seu nome\",command = clique)\n",
    "botao1.pack()\n",
    "\n",
    "#Mantendo o loop para funcionar o tkinter\n",
    "root.mainloop()"
   ]
  },
  {
   "cell_type": "code",
   "execution_count": 11,
   "metadata": {},
   "outputs": [],
   "source": [
    "# Criando uma calculadora muito simples\n",
    "from tkinter import *\n",
    "\n",
    "root = Tk()\n",
    "root.title('Calculadora Simples')\n",
    "\n",
    "#Criando uma entrada\n",
    "e = Entry(root, width =35, borderwidth = 5)\n",
    "e.grid(row=0, column = 0, columnspan = 3, padx= 10, pady=10)\n",
    "\n",
    "def button_click(numero):\n",
    "    atual = e.get()\n",
    "    e.delete(0, END)\n",
    "    e.insert(0, str(atual) + str(numero))\n",
    "    return\n",
    "\n",
    "def button_clear():\n",
    "    e.delete(0, END)\n",
    "    return\n",
    "\n",
    "#Definindo os botões\n",
    "botao_1 = Button(root, text=\"1\", padx = 40, pady =20, command = lambda: button_click(1))\n",
    "botao_2 = Button(root, text=\"2\", padx = 40, pady =20, command = lambda: button_click(2))\n",
    "botao_3 = Button(root, text=\"3\", padx = 40, pady =20, command = lambda: button_click(3))\n",
    "botao_4 = Button(root, text=\"4\", padx = 40, pady =20, command = lambda: button_click(4))\n",
    "botao_5 = Button(root, text=\"5\", padx = 40, pady =20, command = lambda: button_click(5))\n",
    "botao_6 = Button(root, text=\"6\", padx = 40, pady =20, command = lambda: button_click(6))\n",
    "botao_7 = Button(root, text=\"7\", padx = 40, pady =20, command = lambda: button_click(7))\n",
    "botao_8 = Button(root, text=\"8\", padx = 40, pady =20, command = lambda: button_click(8))\n",
    "botao_9 = Button(root, text=\"9\", padx = 40, pady =20, command = lambda: button_click(9))\n",
    "botao_0 = Button(root, text=\"0\", padx = 40, pady =20, command = lambda: button_click(0))\n",
    "botao_ad = Button(root, text=\"+\", padx = 39, pady =20, command = lambda: button_add())\n",
    "botao_igual = Button(root, text=\"=\", padx = 90, pady =20, command = lambda: button_click())\n",
    "botao_limpa = Button(root, text=\"Limpar\", padx = 75, pady =20, command = button_clear)\n",
    "\n",
    "#Colocando os botões na tela\n",
    "botao_1.grid(row = 3, column = 0)\n",
    "botao_2.grid(row = 3, column = 1)\n",
    "botao_3.grid(row = 3, column = 2)\n",
    "\n",
    "botao_4.grid(row = 2, column = 0)\n",
    "botao_5.grid(row = 2, column = 1)\n",
    "botao_6.grid(row = 2, column = 2)\n",
    "\n",
    "botao_7.grid(row = 1, column = 0)\n",
    "botao_8.grid(row = 1, column = 1)\n",
    "botao_9.grid(row = 1, column = 2)\n",
    "\n",
    "botao_0.grid(row = 4, column = 0)\n",
    "botao_limpa.grid(row = 4, column =1, columnspan=2)\n",
    "botao_igual.grid(row = 5, column =1, columnspan=2)\n",
    "botao_ad.grid(row = 5, column =0)\n",
    "\n",
    "#Mantendo o loop para funcionar o tkinter\n",
    "root.mainloop()"
   ]
  },
  {
   "cell_type": "code",
   "execution_count": null,
   "metadata": {},
   "outputs": [],
   "source": []
  }
 ],
 "metadata": {
  "kernelspec": {
   "display_name": "Python 3 (ipykernel)",
   "language": "python",
   "name": "python3"
  },
  "language_info": {
   "codemirror_mode": {
    "name": "ipython",
    "version": 3
   },
   "file_extension": ".py",
   "mimetype": "text/x-python",
   "name": "python",
   "nbconvert_exporter": "python",
   "pygments_lexer": "ipython3",
   "version": "3.8.3"
  }
 },
 "nbformat": 4,
 "nbformat_minor": 4
}
