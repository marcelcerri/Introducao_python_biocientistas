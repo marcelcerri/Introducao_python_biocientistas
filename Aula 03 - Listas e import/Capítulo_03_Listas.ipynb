{
  "cells": [
    {
      "cell_type": "markdown",
      "source": [
        "## Recapitulando a aula passada"
      ],
      "metadata": {
        "id": "D-FuoAMqnID6"
      }
    },
    {
      "cell_type": "code",
      "execution_count": 34,
      "metadata": {
        "colab": {
          "base_uri": "https://localhost:8080/"
        },
        "id": "M-Xxzb9ylfIw",
        "outputId": "3f521efc-28e6-4062-d80f-83daab19effd"
      },
      "outputs": [
        {
          "output_type": "stream",
          "name": "stdout",
          "text": [
            "7.0\n",
            "Média:  7.00\n"
          ]
        }
      ],
      "source": [
        "#Cálculo da média das notas\n",
        "notas = [6,7,5,8,9]\n",
        "soma = 0\n",
        "i = 0\n",
        "while i < len(notas):\n",
        "    soma = soma + notas[i]\n",
        "    i = i + 1\n",
        "    media = soma/i\n",
        "\n",
        "print(media)\n",
        "print(f'Média: {soma / i:5.2f}')"
      ]
    },
    {
      "cell_type": "code",
      "execution_count": 35,
      "metadata": {
        "colab": {
          "base_uri": "https://localhost:8080/"
        },
        "id": "ce5y5EFHlfIw",
        "outputId": "a5ce3717-5ce2-44bd-92e8-3a3e8b628760"
      },
      "outputs": [
        {
          "output_type": "stream",
          "name": "stdout",
          "text": [
            "Nota: 0:10\n",
            "Nota: 1:5\n",
            "Nota: 2:5\n",
            "Nota: 3:5\n",
            "Nota: 4:5\n",
            "Média:  6.00\n"
          ]
        }
      ],
      "source": [
        "#Cálculo da média com notas digitadas\n",
        "notas = [0,0,0,0,0]\n",
        "soma = 0\n",
        "i = 0\n",
        "\n",
        "while i < len(notas):\n",
        "    notas[i] = float(input(f'Nota: {i}:'))\n",
        "    soma += notas[i]\n",
        "    i += 1\n",
        "    \n",
        "print(f'Média: {soma / i:5.2f}')    "
      ]
    },
    {
      "cell_type": "markdown",
      "metadata": {
        "id": "Wa7B8lzPlfIr"
      },
      "source": [
        "# Listas"
      ]
    },
    {
      "cell_type": "markdown",
      "metadata": {
        "id": "Qu9YB_m4lfIu"
      },
      "source": [
        "Listas são um tipo de variável que permite o armazenamento de vários valores, acessados por um índice"
      ]
    },
    {
      "cell_type": "code",
      "execution_count": 21,
      "metadata": {
        "colab": {
          "base_uri": "https://localhost:8080/"
        },
        "id": "McZ-a8uClfIu",
        "outputId": "f3ecd14b-c0b0-41fa-bd1e-7b2d844edcd1"
      },
      "outputs": [
        {
          "output_type": "stream",
          "name": "stdout",
          "text": [
            "[]\n"
          ]
        }
      ],
      "source": [
        "L = []\n",
        "print(L)"
      ]
    },
    {
      "cell_type": "code",
      "execution_count": 22,
      "metadata": {
        "colab": {
          "base_uri": "https://localhost:8080/"
        },
        "id": "WUhZEz18lfIv",
        "outputId": "4df6d09d-3ee9-4a3d-d960-44a7f5c393ac"
      },
      "outputs": [
        {
          "output_type": "stream",
          "name": "stdout",
          "text": [
            "15\n",
            "8\n",
            "9\n"
          ]
        }
      ],
      "source": [
        "Z = [15, 8, 9]\n",
        "print(Z[0])\n",
        "print(Z[1])\n",
        "print(Z[2])"
      ]
    },
    {
      "cell_type": "code",
      "execution_count": 23,
      "metadata": {
        "colab": {
          "base_uri": "https://localhost:8080/"
        },
        "id": "YSJTRzFxlfIw",
        "outputId": "12221a87-e13f-49ef-fe74-6304b7f310e2"
      },
      "outputs": [
        {
          "output_type": "stream",
          "name": "stdout",
          "text": [
            "[7, 8, 9]\n"
          ]
        }
      ],
      "source": [
        "Z[0] = 7\n",
        "print(Z)"
      ]
    },
    {
      "cell_type": "code",
      "source": [
        "idades = [18, 22, 15, 50]\n",
        "type(idades)"
      ],
      "metadata": {
        "colab": {
          "base_uri": "https://localhost:8080/"
        },
        "id": "FsFObbDZmXFq",
        "outputId": "4f9adc32-3868-490b-a3ab-eae2cbd9aad5"
      },
      "execution_count": 24,
      "outputs": [
        {
          "output_type": "execute_result",
          "data": {
            "text/plain": [
              "list"
            ]
          },
          "metadata": {},
          "execution_count": 24
        }
      ]
    },
    {
      "cell_type": "code",
      "source": [
        "idades[2]"
      ],
      "metadata": {
        "colab": {
          "base_uri": "https://localhost:8080/"
        },
        "id": "-fiscTCvmi5p",
        "outputId": "613113e7-08f3-4abe-aaf3-0fabef27f803"
      },
      "execution_count": 25,
      "outputs": [
        {
          "output_type": "execute_result",
          "data": {
            "text/plain": [
              "15"
            ]
          },
          "metadata": {},
          "execution_count": 25
        }
      ]
    },
    {
      "cell_type": "code",
      "source": [
        "idades = [18, 22, 15, 50]\n",
        "#         0   1   2   3\n",
        "#         0  -3  -2  -1"
      ],
      "metadata": {
        "id": "AwzK2HtSml6h"
      },
      "execution_count": 41,
      "outputs": []
    },
    {
      "cell_type": "code",
      "source": [
        "idades[1]"
      ],
      "metadata": {
        "colab": {
          "base_uri": "https://localhost:8080/"
        },
        "id": "-w-HjK0imseJ",
        "outputId": "f0ad20d7-06d9-4808-dd94-a938834d0e90"
      },
      "execution_count": 27,
      "outputs": [
        {
          "output_type": "execute_result",
          "data": {
            "text/plain": [
              "22"
            ]
          },
          "metadata": {},
          "execution_count": 27
        }
      ]
    },
    {
      "cell_type": "code",
      "source": [
        "idades[0:3]"
      ],
      "metadata": {
        "colab": {
          "base_uri": "https://localhost:8080/"
        },
        "id": "NOH2fQOImtyK",
        "outputId": "5fabd9c1-cf81-4a83-8005-c4a0d660ac64"
      },
      "execution_count": 28,
      "outputs": [
        {
          "output_type": "execute_result",
          "data": {
            "text/plain": [
              "[18, 22, 15]"
            ]
          },
          "metadata": {},
          "execution_count": 28
        }
      ]
    },
    {
      "cell_type": "code",
      "source": [
        "idades[1:]"
      ],
      "metadata": {
        "colab": {
          "base_uri": "https://localhost:8080/"
        },
        "id": "dZSp5jt3mzoZ",
        "outputId": "5f42c4a1-8f03-427f-8e21-478f1f32bb65"
      },
      "execution_count": 29,
      "outputs": [
        {
          "output_type": "execute_result",
          "data": {
            "text/plain": [
              "[22, 15, 50]"
            ]
          },
          "metadata": {},
          "execution_count": 29
        }
      ]
    },
    {
      "cell_type": "code",
      "source": [
        "idades[-1]"
      ],
      "metadata": {
        "colab": {
          "base_uri": "https://localhost:8080/"
        },
        "id": "HJhWsC5_m2QZ",
        "outputId": "398d83fe-d146-4c6b-a6ef-2def55b6bdbb"
      },
      "execution_count": 30,
      "outputs": [
        {
          "output_type": "execute_result",
          "data": {
            "text/plain": [
              "50"
            ]
          },
          "metadata": {},
          "execution_count": 30
        }
      ]
    },
    {
      "cell_type": "code",
      "source": [
        "idades[-2]"
      ],
      "metadata": {
        "colab": {
          "base_uri": "https://localhost:8080/"
        },
        "id": "tE1p8crEm4-J",
        "outputId": "119422b0-fd83-4e95-be12-cdc2e429680b"
      },
      "execution_count": 31,
      "outputs": [
        {
          "output_type": "execute_result",
          "data": {
            "text/plain": [
              "15"
            ]
          },
          "metadata": {},
          "execution_count": 31
        }
      ]
    },
    {
      "cell_type": "markdown",
      "source": [
        "Tamanho da Lista"
      ],
      "metadata": {
        "id": "W32K_NGon0XZ"
      }
    },
    {
      "cell_type": "code",
      "source": [
        "len(idades)"
      ],
      "metadata": {
        "colab": {
          "base_uri": "https://localhost:8080/"
        },
        "id": "Sr43hDkJn2ua",
        "outputId": "ed895e79-da85-4eab-d26f-7cd79969d12a"
      },
      "execution_count": 32,
      "outputs": [
        {
          "output_type": "execute_result",
          "data": {
            "text/plain": [
              "4"
            ]
          },
          "metadata": {},
          "execution_count": 32
        }
      ]
    },
    {
      "cell_type": "markdown",
      "source": [
        "Adicionando elementos na lista"
      ],
      "metadata": {
        "id": "DdxRBLvXn-nx"
      }
    },
    {
      "cell_type": "code",
      "source": [
        "idades.append(45)\n",
        "print(idades)"
      ],
      "metadata": {
        "colab": {
          "base_uri": "https://localhost:8080/"
        },
        "id": "FUFq9QvcoCUp",
        "outputId": "5602bf5e-a0dd-481d-c914-9502a1719567"
      },
      "execution_count": 42,
      "outputs": [
        {
          "output_type": "stream",
          "name": "stdout",
          "text": [
            "[18, 22, 15, 50, 45]\n"
          ]
        }
      ]
    },
    {
      "cell_type": "code",
      "source": [
        "len(idades)"
      ],
      "metadata": {
        "colab": {
          "base_uri": "https://localhost:8080/"
        },
        "id": "_8GvZ6nAoR3Q",
        "outputId": "7ec4fffc-8c1b-4a62-ac54-d568abdf0116"
      },
      "execution_count": 37,
      "outputs": [
        {
          "output_type": "execute_result",
          "data": {
            "text/plain": [
              "5"
            ]
          },
          "metadata": {},
          "execution_count": 37
        }
      ]
    },
    {
      "cell_type": "markdown",
      "source": [
        "Apagando elemento da lista"
      ],
      "metadata": {
        "id": "PN_kVWXKoeGq"
      }
    },
    {
      "cell_type": "code",
      "source": [
        "del idades[4]\n",
        "print(idades)"
      ],
      "metadata": {
        "colab": {
          "base_uri": "https://localhost:8080/"
        },
        "id": "wi-hi3xwodEI",
        "outputId": "6bef5e86-2b1d-43eb-8394-b2047cbfe301"
      },
      "execution_count": 43,
      "outputs": [
        {
          "output_type": "stream",
          "name": "stdout",
          "text": [
            "[18, 22, 15, 50]\n"
          ]
        }
      ]
    },
    {
      "cell_type": "code",
      "source": [
        "# dica de como estimar a soma, máximo e mínimo de uma lista\n",
        "print(sum(idades))\n",
        "print(max(idades))\n",
        "print(min(idades))"
      ],
      "metadata": {
        "colab": {
          "base_uri": "https://localhost:8080/"
        },
        "id": "zUmgBkWd2Y1E",
        "outputId": "c8c52513-b2cb-4c8e-81ff-a5d7a7ecf598"
      },
      "execution_count": 76,
      "outputs": [
        {
          "output_type": "stream",
          "name": "stdout",
          "text": [
            "105\n",
            "50\n",
            "15\n"
          ]
        }
      ]
    },
    {
      "cell_type": "markdown",
      "source": [
        "### Range"
      ],
      "metadata": {
        "id": "z-wPdTrVpELQ"
      }
    },
    {
      "cell_type": "markdown",
      "source": [
        "Podemos usar a função range para gerar listas simples"
      ],
      "metadata": {
        "id": "8A9nmQwRpGo6"
      }
    },
    {
      "cell_type": "code",
      "source": [
        "for i in range(12):\n",
        "  print(i)"
      ],
      "metadata": {
        "colab": {
          "base_uri": "https://localhost:8080/"
        },
        "id": "TMKusqSPpL5a",
        "outputId": "c0d31435-a3ab-442e-9447-6449d61cb69e"
      },
      "execution_count": 44,
      "outputs": [
        {
          "output_type": "stream",
          "name": "stdout",
          "text": [
            "0\n",
            "1\n",
            "2\n",
            "3\n",
            "4\n",
            "5\n",
            "6\n",
            "7\n",
            "8\n",
            "9\n",
            "10\n",
            "11\n"
          ]
        }
      ]
    },
    {
      "cell_type": "code",
      "source": [
        "for w in range(5, 55, 5):\n",
        "  print(w)"
      ],
      "metadata": {
        "colab": {
          "base_uri": "https://localhost:8080/"
        },
        "id": "3tOjcpFLpTsh",
        "outputId": "209bc5d7-e31f-4a38-823d-20a0763c018c"
      },
      "execution_count": 45,
      "outputs": [
        {
          "output_type": "stream",
          "name": "stdout",
          "text": [
            "5\n",
            "10\n",
            "15\n",
            "20\n",
            "25\n",
            "30\n",
            "35\n",
            "40\n",
            "45\n",
            "50\n"
          ]
        }
      ]
    },
    {
      "cell_type": "markdown",
      "source": [
        "# Funções"
      ],
      "metadata": {
        "id": "Vfo4Klvyq8RJ"
      }
    },
    {
      "cell_type": "markdown",
      "source": [
        "Podemos definir as nossas próprias funções em Python.\n",
        "Temos as funções já predefinidas no Python https://docs.python.org/3/library/functions.html"
      ],
      "metadata": {
        "id": "aA2Vi4Q1q_KJ"
      }
    },
    {
      "cell_type": "code",
      "source": [
        "# Primeira Função\n",
        "def soma(a, b):\n",
        "  print(a + b)"
      ],
      "metadata": {
        "id": "9BDDNzbIvHNj"
      },
      "execution_count": 46,
      "outputs": []
    },
    {
      "cell_type": "code",
      "source": [
        "soma(10, 2)"
      ],
      "metadata": {
        "colab": {
          "base_uri": "https://localhost:8080/"
        },
        "id": "eBezttIfvP3i",
        "outputId": "ec65009d-d6de-4a34-be37-b076ee0a11eb"
      },
      "execution_count": 47,
      "outputs": [
        {
          "output_type": "stream",
          "name": "stdout",
          "text": [
            "12\n"
          ]
        }
      ]
    },
    {
      "cell_type": "code",
      "source": [
        "soma(7,8)"
      ],
      "metadata": {
        "colab": {
          "base_uri": "https://localhost:8080/"
        },
        "id": "WPqGhyTUvSQj",
        "outputId": "0940b43b-3dad-4875-d908-12a62eaa993d"
      },
      "execution_count": 48,
      "outputs": [
        {
          "output_type": "stream",
          "name": "stdout",
          "text": [
            "15\n"
          ]
        }
      ]
    },
    {
      "cell_type": "code",
      "source": [
        "# Outra forma de escrever a mesma função\n",
        "def soma(a, b):\n",
        "  return a + b"
      ],
      "metadata": {
        "id": "b5LQ_Ux0vZ9q"
      },
      "execution_count": 49,
      "outputs": []
    },
    {
      "cell_type": "code",
      "source": [
        "soma(120, 241)"
      ],
      "metadata": {
        "colab": {
          "base_uri": "https://localhost:8080/"
        },
        "id": "HqTD2D_EviHM",
        "outputId": "9b49a2c6-9782-4d11-965d-78f0a6ef27ac"
      },
      "execution_count": 50,
      "outputs": [
        {
          "output_type": "execute_result",
          "data": {
            "text/plain": [
              "361"
            ]
          },
          "metadata": {},
          "execution_count": 50
        }
      ]
    },
    {
      "cell_type": "code",
      "source": [
        "# Função define se é par ou ímpar\n",
        "def épar(x):\n",
        "  return x % 2 == 0"
      ],
      "metadata": {
        "id": "ILBI4xLNvljC"
      },
      "execution_count": 54,
      "outputs": []
    },
    {
      "cell_type": "code",
      "source": [
        "épar(21)"
      ],
      "metadata": {
        "colab": {
          "base_uri": "https://localhost:8080/"
        },
        "id": "HEiAJwK1vvja",
        "outputId": "1d2c644e-97ae-4a4a-d1ad-775e1ac731c4"
      },
      "execution_count": 55,
      "outputs": [
        {
          "output_type": "execute_result",
          "data": {
            "text/plain": [
              "False"
            ]
          },
          "metadata": {},
          "execution_count": 55
        }
      ]
    },
    {
      "cell_type": "code",
      "source": [
        "épar(2)"
      ],
      "metadata": {
        "colab": {
          "base_uri": "https://localhost:8080/"
        },
        "id": "8Idn5_VkvynD",
        "outputId": "9e2f6d8e-fbd7-46eb-cf6d-3bae838045d1"
      },
      "execution_count": 56,
      "outputs": [
        {
          "output_type": "execute_result",
          "data": {
            "text/plain": [
              "True"
            ]
          },
          "metadata": {},
          "execution_count": 56
        }
      ]
    },
    {
      "cell_type": "code",
      "source": [
        "def par_ou_impar(x):\n",
        "  if épar(x):\n",
        "    return \"par\"\n",
        "  else:\n",
        "    return \"ímpar\""
      ],
      "metadata": {
        "id": "HkYdvjgMv9Ti"
      },
      "execution_count": 57,
      "outputs": []
    },
    {
      "cell_type": "code",
      "source": [
        "par_ou_impar(10)"
      ],
      "metadata": {
        "colab": {
          "base_uri": "https://localhost:8080/",
          "height": 35
        },
        "id": "4kzh3_ATzsyc",
        "outputId": "00e64d7b-2ad1-44d1-99ee-c09fa888c3cc"
      },
      "execution_count": 58,
      "outputs": [
        {
          "output_type": "execute_result",
          "data": {
            "text/plain": [
              "'par'"
            ],
            "application/vnd.google.colaboratory.intrinsic+json": {
              "type": "string"
            }
          },
          "metadata": {},
          "execution_count": 58
        }
      ]
    },
    {
      "cell_type": "code",
      "source": [
        "par_ou_impar(235)"
      ],
      "metadata": {
        "colab": {
          "base_uri": "https://localhost:8080/",
          "height": 35
        },
        "id": "rnQ5sCH5zwnT",
        "outputId": "bc28535e-d19f-4c76-d84e-a32421de4f52"
      },
      "execution_count": 59,
      "outputs": [
        {
          "output_type": "execute_result",
          "data": {
            "text/plain": [
              "'ímpar'"
            ],
            "application/vnd.google.colaboratory.intrinsic+json": {
              "type": "string"
            }
          },
          "metadata": {},
          "execution_count": 59
        }
      ]
    },
    {
      "cell_type": "code",
      "source": [
        "# Escrevendo uma função para calcular fatorial\n",
        "def fatorial(n):\n",
        "  fat = 1\n",
        "  while n > 1:\n",
        "    fat = fat * n # ou  fat*=n\n",
        "    n = n - 1 # ou n -= 1\n",
        "  return fat"
      ],
      "metadata": {
        "id": "octBwWhM00Zs"
      },
      "execution_count": 68,
      "outputs": []
    },
    {
      "cell_type": "code",
      "source": [
        "fatorial(9)"
      ],
      "metadata": {
        "colab": {
          "base_uri": "https://localhost:8080/"
        },
        "id": "G2WS3i4h1J1F",
        "outputId": "0e9a83af-88ee-411c-c4a7-972518f766ad"
      },
      "execution_count": 72,
      "outputs": [
        {
          "output_type": "execute_result",
          "data": {
            "text/plain": [
              "362880"
            ]
          },
          "metadata": {},
          "execution_count": 72
        }
      ]
    },
    {
      "cell_type": "code",
      "source": [
        "fatorial(6)"
      ],
      "metadata": {
        "colab": {
          "base_uri": "https://localhost:8080/"
        },
        "id": "BiC84BFL2IfF",
        "outputId": "007d5af0-085f-44bb-e44d-97d8a30c2430"
      },
      "execution_count": 73,
      "outputs": [
        {
          "output_type": "execute_result",
          "data": {
            "text/plain": [
              "720"
            ]
          },
          "metadata": {},
          "execution_count": 73
        }
      ]
    },
    {
      "cell_type": "markdown",
      "source": [
        "## Funções recursivas"
      ],
      "metadata": {
        "id": "-FcJNM_z4hjd"
      }
    },
    {
      "cell_type": "markdown",
      "source": [
        "Vídeo sobre recursão de funções https://www.youtube.com/watch?v=zbfRgC3kukk"
      ],
      "metadata": {
        "id": "SmyneAWE4miV"
      }
    },
    {
      "cell_type": "code",
      "source": [
        "# Usando recursão para escrever uma função que calcula fatorial\n",
        "def fatorial(n):\n",
        "  print(f'Calculando o fatorial de {n}')\n",
        "  if n == 0 or n == 1:\n",
        "    print(f\"Fatorial de {n} = 1\")\n",
        "    return 1\n",
        "  else:\n",
        "    fat = n * fatorial(n-1)\n",
        "    print(f'Fatorial de {n} = {fat}')\n",
        "  return fat"
      ],
      "metadata": {
        "id": "mazKXUsV5KHk"
      },
      "execution_count": 77,
      "outputs": []
    },
    {
      "cell_type": "code",
      "source": [
        "fatorial(5)"
      ],
      "metadata": {
        "colab": {
          "base_uri": "https://localhost:8080/"
        },
        "id": "txp3WcWG514F",
        "outputId": "4113b7e4-939f-4889-d00d-5e658ef8fc35"
      },
      "execution_count": 78,
      "outputs": [
        {
          "output_type": "stream",
          "name": "stdout",
          "text": [
            "Calculando o fatorial de 5\n",
            "Calculando o fatorial de 4\n",
            "Calculando o fatorial de 3\n",
            "Calculando o fatorial de 2\n",
            "Calculando o fatorial de 1\n",
            "Fatorial de 1 = 1\n",
            "Fatorial de 2 = 2\n",
            "Fatorial de 3 = 6\n",
            "Fatorial de 4 = 24\n",
            "Fatorial de 5 = 120\n"
          ]
        },
        {
          "output_type": "execute_result",
          "data": {
            "text/plain": [
              "120"
            ]
          },
          "metadata": {},
          "execution_count": 78
        }
      ]
    },
    {
      "cell_type": "code",
      "source": [
        "# De forma mais direta\n",
        "def fatorial(n):\n",
        "  if n == 0 or n==1:\n",
        "    return 1\n",
        "  else:\n",
        "    return n * fatorial(n-1)"
      ],
      "metadata": {
        "id": "0LF_WWIo59bN"
      },
      "execution_count": 79,
      "outputs": []
    },
    {
      "cell_type": "code",
      "source": [
        "fatorial (5)"
      ],
      "metadata": {
        "colab": {
          "base_uri": "https://localhost:8080/"
        },
        "id": "uEI-yiWu6MEE",
        "outputId": "9854196c-0029-4fe5-b50a-f9beba5a2621"
      },
      "execution_count": 80,
      "outputs": [
        {
          "output_type": "execute_result",
          "data": {
            "text/plain": [
              "120"
            ]
          },
          "metadata": {},
          "execution_count": 80
        }
      ]
    },
    {
      "cell_type": "markdown",
      "source": [
        "Desafio - imprimir a sequencia de Fibonacci utilizando função recursiva"
      ],
      "metadata": {
        "id": "la-NOqgM7Zm1"
      }
    },
    {
      "cell_type": "markdown",
      "source": [
        "# Import"
      ],
      "metadata": {
        "id": "DU2SUDS0nS2p"
      }
    },
    {
      "cell_type": "code",
      "execution_count": 36,
      "metadata": {
        "colab": {
          "base_uri": "https://localhost:8080/",
          "height": 282
        },
        "id": "jXQYbzxwlfIw",
        "outputId": "f5da5101-bcbf-4faa-bc58-0e7b92ca2cd6"
      },
      "outputs": [
        {
          "output_type": "execute_result",
          "data": {
            "text/plain": [
              "[<matplotlib.lines.Line2D at 0x7f174da22820>]"
            ]
          },
          "metadata": {},
          "execution_count": 36
        },
        {
          "output_type": "display_data",
          "data": {
            "text/plain": [
              "<Figure size 432x288 with 1 Axes>"
            ],
            "image/png": "[encoded data removed]"
          },
          "metadata": {
            "needs_background": "light"
          }
        }
      ],
      "source": [
        "import matplotlib.pyplot as plt\n",
        "import numpy as np\n",
        "\n",
        "x = np.arange(1,10,0.1)\n",
        "y = np.sin(x)\n",
        "plt.plot(x,y)"
      ]
    },
    {
      "cell_type": "code",
      "source": [
        "# Números aleatórios\n",
        "from random import randrange, seed"
      ],
      "metadata": {
        "id": "6AvNcnW_8AT1"
      },
      "execution_count": 88,
      "outputs": []
    },
    {
      "cell_type": "code",
      "source": [
        "seed(11)"
      ],
      "metadata": {
        "id": "QpLIpBm6nR1K"
      },
      "execution_count": 82,
      "outputs": []
    },
    {
      "cell_type": "code",
      "source": [
        "randrange(0,11)"
      ],
      "metadata": {
        "colab": {
          "base_uri": "https://localhost:8080/"
        },
        "id": "uZ5K9xSZ8CfU",
        "outputId": "1d4b21eb-52d1-4fc5-8581-a5574c554ef9"
      },
      "execution_count": 83,
      "outputs": [
        {
          "output_type": "execute_result",
          "data": {
            "text/plain": [
              "7"
            ]
          },
          "metadata": {},
          "execution_count": 83
        }
      ]
    },
    {
      "cell_type": "code",
      "source": [
        "notas_matematica = []\n",
        "\n",
        "for notas in range(8):\n",
        "  notas_matematica.append(randrange(0,11))\n",
        "\n",
        "notas_matematica"
      ],
      "metadata": {
        "colab": {
          "base_uri": "https://localhost:8080/"
        },
        "id": "M0nND4It8EI0",
        "outputId": "a2dd9645-248e-483c-ffe6-a3ef84999ee4"
      },
      "execution_count": 84,
      "outputs": [
        {
          "output_type": "execute_result",
          "data": {
            "text/plain": [
              "[8, 7, 7, 8, 9, 3, 2, 8]"
            ]
          },
          "metadata": {},
          "execution_count": 84
        }
      ]
    },
    {
      "cell_type": "code",
      "source": [
        "len(notas_matematica)"
      ],
      "metadata": {
        "colab": {
          "base_uri": "https://localhost:8080/"
        },
        "id": "KW4kS7zC8GVl",
        "outputId": "e2956af6-1242-4927-ca5b-ad8bf99374d6"
      },
      "execution_count": 85,
      "outputs": [
        {
          "output_type": "execute_result",
          "data": {
            "text/plain": [
              "8"
            ]
          },
          "metadata": {},
          "execution_count": 85
        }
      ]
    },
    {
      "cell_type": "code",
      "source": [
        "import matplotlib.pyplot as plt"
      ],
      "metadata": {
        "id": "6llyYFXl8JrF"
      },
      "execution_count": 86,
      "outputs": []
    },
    {
      "cell_type": "code",
      "source": [
        "x = list(range(1, 9))\n",
        "y = notas_matematica\n",
        "plt.plot(x, y, marker='o')\n",
        "plt.title('Notas de matemática')\n",
        "plt.xlabel('Provas')\n",
        "plt.ylabel('Notas')\n",
        "plt.show()"
      ],
      "metadata": {
        "colab": {
          "base_uri": "https://localhost:8080/",
          "height": 295
        },
        "id": "VWaqpx7p8MAk",
        "outputId": "cf729f74-f2f2-49c0-f45e-9585b781869b"
      },
      "execution_count": 87,
      "outputs": [
        {
          "output_type": "display_data",
          "data": {
            "text/plain": [
              "<Figure size 432x288 with 1 Axes>"
            ],
            "image/png": "[encoded data removed]"
          },
          "metadata": {
            "needs_background": "light"
          }
        }
      ]
    },
    {
      "cell_type": "code",
      "source": [
        "# Escolhendo número aleatórios de 0 a 100 - 10 números\n",
        "import random\n",
        "for x in range(10):\n",
        "  print(random.randint(1,100))"
      ],
      "metadata": {
        "colab": {
          "base_uri": "https://localhost:8080/"
        },
        "id": "K-ax12p28NiT",
        "outputId": "7ef6e357-18eb-424e-80d0-5dbbd7d805f0"
      },
      "execution_count": 91,
      "outputs": [
        {
          "output_type": "stream",
          "name": "stdout",
          "text": [
            "89\n",
            "82\n",
            "6\n",
            "77\n",
            "51\n",
            "58\n",
            "84\n",
            "95\n",
            "79\n",
            "84\n"
          ]
        }
      ]
    },
    {
      "cell_type": "code",
      "source": [],
      "metadata": {
        "id": "_K-gjDeu85bD"
      },
      "execution_count": null,
      "outputs": []
    }
  ],
  "metadata": {
    "kernelspec": {
      "display_name": "Python 3",
      "language": "python",
      "name": "python3"
    },
    "language_info": {
      "codemirror_mode": {
        "name": "ipython",
        "version": 3
      },
      "file_extension": ".py",
      "mimetype": "text/x-python",
      "name": "python",
      "nbconvert_exporter": "python",
      "pygments_lexer": "ipython3",
      "version": "3.8.3"
    },
    "colab": {
      "provenance": []
    }
  },
  "nbformat": 4,
  "nbformat_minor": 0
}