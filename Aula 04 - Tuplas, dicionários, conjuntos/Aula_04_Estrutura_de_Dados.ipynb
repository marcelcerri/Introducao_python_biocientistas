{
  "cells": [
    {
      "cell_type": "markdown",
      "metadata": {
        "id": "iL_GoODe_ENe"
      },
      "source": [
        "# Intro to Python Data Structures\n",
        "\n",
        "## Sequences: String, List, Tuple\n",
        "****\n",
        "**indexing** - access any item in the sequence using its index.  \n",
        "Indexing starts with 0 for the first element."
      ]
    },
    {
      "cell_type": "code",
      "execution_count": 1,
      "metadata": {
        "id": "MlMJUjPP_ENg",
        "outputId": "01b6b741-5397-4f14-c3ac-16902af12428",
        "colab": {
          "base_uri": "https://localhost:8080/"
        }
      },
      "outputs": [
        {
          "output_type": "stream",
          "name": "stdout",
          "text": [
            "g\n",
            "cow\n"
          ]
        }
      ],
      "source": [
        "# string\n",
        "x = 'frog'\n",
        "print (x[3])\n",
        "\n",
        "# list\n",
        "x = ['pig', 'cow', 'horse']\n",
        "print (x[1])"
      ]
    },
    {
      "cell_type": "markdown",
      "metadata": {
        "id": "OMQdFkh9_ENh"
      },
      "source": [
        "**slicing** - slice out substrings, sublists, subtuples using indexes.  \n",
        "[start : end+1 : step]"
      ]
    },
    {
      "cell_type": "code",
      "execution_count": 2,
      "metadata": {
        "id": "rfubw29V_ENi",
        "outputId": "09579280-89a9-4288-a9fc-94e839037f7e",
        "colab": {
          "base_uri": "https://localhost:8080/"
        }
      },
      "outputs": [
        {
          "output_type": "stream",
          "name": "stdout",
          "text": [
            "omp\n",
            "opt\n",
            "puter\n",
            "compu\n",
            "r\n",
            "ter\n",
            "comput\n"
          ]
        }
      ],
      "source": [
        "x = 'computer'\n",
        "print(x[1:4])\n",
        "print(x[1:6:2])\n",
        "print(x[3:])\n",
        "print(x[:5])\n",
        "print(x[-1])\n",
        "print(x[-3:])\n",
        "print(x[:-2])"
      ]
    },
    {
      "cell_type": "markdown",
      "metadata": {
        "id": "xmmM0CMD_ENi"
      },
      "source": [
        "**adding / concatenating** - combine 2 sequences of the same type by using +"
      ]
    },
    {
      "cell_type": "code",
      "execution_count": 3,
      "metadata": {
        "id": "R74h5W6V_ENi",
        "outputId": "0cd01ca9-97e3-4d80-9953-b770a985054f",
        "colab": {
          "base_uri": "https://localhost:8080/"
        }
      },
      "outputs": [
        {
          "output_type": "stream",
          "name": "stdout",
          "text": [
            "horseshoe\n",
            "['pig', 'cow', 'horse']\n"
          ]
        }
      ],
      "source": [
        "# string\n",
        "x = 'horse' + 'shoe'\n",
        "print(x)\n",
        "\n",
        "# list\n",
        "y = ['pig', 'cow'] + ['horse']\n",
        "print(y)"
      ]
    },
    {
      "cell_type": "markdown",
      "metadata": {
        "id": "yHLc39CE_ENi"
      },
      "source": [
        "**multiplying** - multiply a sequence using *"
      ]
    },
    {
      "cell_type": "code",
      "execution_count": 4,
      "metadata": {
        "id": "p8pTUSOR_ENj",
        "outputId": "ae8af3ac-fabc-4427-a62f-4989f5124bd3",
        "colab": {
          "base_uri": "https://localhost:8080/"
        }
      },
      "outputs": [
        {
          "output_type": "stream",
          "name": "stdout",
          "text": [
            "bugbugbug\n",
            "[8, 5, 8, 5, 8, 5]\n"
          ]
        }
      ],
      "source": [
        "# string\n",
        "x = 'bug' * 3\n",
        "print(x)\n",
        "\n",
        "# list\n",
        "y = [8, 5] * 3\n",
        "print(y)"
      ]
    },
    {
      "cell_type": "markdown",
      "metadata": {
        "id": "GS8mRHgJ_ENj"
      },
      "source": [
        "**checking membership** - test whether an item is or is not in a sequence."
      ]
    },
    {
      "cell_type": "code",
      "execution_count": 5,
      "metadata": {
        "id": "TP2_GoaL_ENj",
        "outputId": "b5d36acc-8781-49bf-9c27-8399447cb914",
        "colab": {
          "base_uri": "https://localhost:8080/"
        }
      },
      "outputs": [
        {
          "output_type": "stream",
          "name": "stdout",
          "text": [
            "True\n",
            "False\n"
          ]
        }
      ],
      "source": [
        "# string\n",
        "x = 'bug'\n",
        "print('u' in x)\n",
        "\n",
        "# list\n",
        "y = ['pig', 'cow', 'horse']\n",
        "print('cow' not in y)"
      ]
    },
    {
      "cell_type": "markdown",
      "metadata": {
        "id": "A0NTjZIS_ENj"
      },
      "source": [
        "**iterating** - iterating through the items in a sequence"
      ]
    },
    {
      "cell_type": "code",
      "execution_count": 6,
      "metadata": {
        "id": "rgzROZs1_ENk",
        "outputId": "931c74aa-7c69-447b-d966-7b44b5e26c26",
        "colab": {
          "base_uri": "https://localhost:8080/"
        }
      },
      "outputs": [
        {
          "output_type": "stream",
          "name": "stdout",
          "text": [
            "7\n",
            "8\n",
            "3\n",
            "0 7\n",
            "1 8\n",
            "2 3\n"
          ]
        }
      ],
      "source": [
        "# item\n",
        "x = [7, 8, 3]\n",
        "for item in x:\n",
        "    print(item)\n",
        "    \n",
        "# index & item\n",
        "y = [7, 8, 3]\n",
        "for index, item in enumerate(y):\n",
        "    print(index, item)"
      ]
    },
    {
      "cell_type": "markdown",
      "metadata": {
        "id": "oAsDJ_Ko_ENk"
      },
      "source": [
        "**number of items** - count the number of items in a sequence"
      ]
    },
    {
      "cell_type": "code",
      "execution_count": 7,
      "metadata": {
        "id": "U-XKrh7l_ENk",
        "outputId": "7a4c9b0c-ba81-43f1-c9c7-49e0c518fe8e",
        "colab": {
          "base_uri": "https://localhost:8080/"
        }
      },
      "outputs": [
        {
          "output_type": "stream",
          "name": "stdout",
          "text": [
            "3\n",
            "3\n"
          ]
        }
      ],
      "source": [
        "# string\n",
        "x = 'bug'\n",
        "print(len(x))\n",
        "\n",
        "# list\n",
        "y = ['pig', 'cow', 'horse']\n",
        "print(len(y))"
      ]
    },
    {
      "cell_type": "markdown",
      "metadata": {
        "id": "cG9MvtUx_ENk"
      },
      "source": [
        "**minimum** - find the minimum item in a sequence lexicographically.  \n",
        "Alpha or numeric types, but cannot mix types."
      ]
    },
    {
      "cell_type": "code",
      "execution_count": 8,
      "metadata": {
        "id": "Cd69BYSu_ENk",
        "outputId": "9327847e-cca4-4ca6-c986-872be55d904f",
        "colab": {
          "base_uri": "https://localhost:8080/"
        }
      },
      "outputs": [
        {
          "output_type": "stream",
          "name": "stdout",
          "text": [
            "b\n",
            "cow\n"
          ]
        }
      ],
      "source": [
        "# string\n",
        "x = 'bug'\n",
        "print(min(x))\n",
        "\n",
        "# list\n",
        "y = ['pig', 'cow', 'horse']\n",
        "print(min(y))"
      ]
    },
    {
      "cell_type": "markdown",
      "metadata": {
        "id": "a6JnZIj-_ENk"
      },
      "source": [
        "**maximum** - find the maximum item in a sequence lexicographically.  \n",
        "Alpha or numeric types, but cannot mix types."
      ]
    },
    {
      "cell_type": "code",
      "execution_count": 9,
      "metadata": {
        "id": "UWVeujut_ENk",
        "outputId": "fd58fb0b-7f5b-4f13-aecd-87e0b7f8b668",
        "colab": {
          "base_uri": "https://localhost:8080/"
        }
      },
      "outputs": [
        {
          "output_type": "stream",
          "name": "stdout",
          "text": [
            "u\n",
            "pig\n"
          ]
        }
      ],
      "source": [
        "# string\n",
        "x = 'bug'\n",
        "print(max(x))\n",
        "\n",
        "# list\n",
        "y = ['pig', 'cow', 'horse']\n",
        "print(max(y))"
      ]
    },
    {
      "cell_type": "markdown",
      "metadata": {
        "id": "SiZxKKt-_ENl"
      },
      "source": [
        "**sum** - find the sum of items in a sequence.  \n",
        "Entire sequence must be numeric."
      ]
    },
    {
      "cell_type": "code",
      "execution_count": 10,
      "metadata": {
        "id": "DdTqM7LO_ENl",
        "outputId": "7c815739-4209-43ea-89bc-b71215aba4b8",
        "colab": {
          "base_uri": "https://localhost:8080/"
        }
      },
      "outputs": [
        {
          "output_type": "stream",
          "name": "stdout",
          "text": [
            "27\n",
            "20\n"
          ]
        }
      ],
      "source": [
        "# string -> error\n",
        "# x = [5, 7, 'bug']\n",
        "# print(sum(x))    # generates an error\n",
        "\n",
        "# list\n",
        "y = [2, 5, 8, 12]\n",
        "print(sum(y))\n",
        "print(sum(y[-2:]))"
      ]
    },
    {
      "cell_type": "markdown",
      "metadata": {
        "id": "bM8qHK66_ENl"
      },
      "source": [
        "**sorting** - returns a new list of items in sorted order.  \n",
        "Does not change the original list."
      ]
    },
    {
      "cell_type": "code",
      "execution_count": 11,
      "metadata": {
        "id": "7naLWu4-_ENl",
        "outputId": "b27aa1b7-d005-41ff-a4a0-9cf3d6670525",
        "colab": {
          "base_uri": "https://localhost:8080/"
        }
      },
      "outputs": [
        {
          "output_type": "stream",
          "name": "stdout",
          "text": [
            "['b', 'g', 'u']\n",
            "['cow', 'horse', 'pig']\n"
          ]
        }
      ],
      "source": [
        "# string\n",
        "x = 'bug'\n",
        "print(sorted(x))\n",
        "\n",
        "# list\n",
        "y = ['pig', 'cow', 'horse']\n",
        "print(sorted(y))"
      ]
    },
    {
      "cell_type": "markdown",
      "metadata": {
        "id": "cSpFCHKm_ENl"
      },
      "source": [
        "**count(item)** - returns count of an item"
      ]
    },
    {
      "cell_type": "code",
      "execution_count": 12,
      "metadata": {
        "id": "9sLosg5I_ENl",
        "outputId": "6612c814-0219-41ba-9f87-d36559555e79",
        "colab": {
          "base_uri": "https://localhost:8080/"
        }
      },
      "outputs": [
        {
          "output_type": "stream",
          "name": "stdout",
          "text": [
            "2\n",
            "2\n"
          ]
        }
      ],
      "source": [
        "# string\n",
        "x = 'hippo'\n",
        "print(x.count('p'))\n",
        "\n",
        "# list\n",
        "y = ['pig', 'cow', 'horse', 'cow']\n",
        "print(y.count('cow'))"
      ]
    },
    {
      "cell_type": "markdown",
      "metadata": {
        "id": "rX_Qr2o6_ENl"
      },
      "source": [
        "**index(item)** - returns the index of the first occurence of an item."
      ]
    },
    {
      "cell_type": "code",
      "execution_count": null,
      "metadata": {
        "id": "DZo9RKYw_ENm",
        "outputId": "eddb6571-a64b-42f7-f746-28126ce04e58"
      },
      "outputs": [
        {
          "name": "stdout",
          "output_type": "stream",
          "text": [
            "2\n",
            "1\n"
          ]
        }
      ],
      "source": [
        "# string\n",
        "x = 'hippo'\n",
        "print(x.index('p'))\n",
        "\n",
        "# list\n",
        "y = ['pig', 'cow', 'horse', 'cow']\n",
        "print(y.index('cow'))"
      ]
    },
    {
      "cell_type": "markdown",
      "metadata": {
        "id": "_VpngQvJ_ENm"
      },
      "source": [
        "**unpacking** - unpack the n items of a sequence into n variables"
      ]
    },
    {
      "cell_type": "code",
      "execution_count": 13,
      "metadata": {
        "id": "sFfFthNp_ENm",
        "outputId": "089dc367-96bb-471c-f4f9-a5d0448feb4d",
        "colab": {
          "base_uri": "https://localhost:8080/"
        }
      },
      "outputs": [
        {
          "output_type": "stream",
          "name": "stdout",
          "text": [
            "pig cow horse\n"
          ]
        }
      ],
      "source": [
        "x = ['pig', 'cow', 'horse']\n",
        "a, b, c = x\n",
        "print(a, b, c)"
      ]
    },
    {
      "cell_type": "markdown",
      "metadata": {
        "id": "zK6O8UVO_ENm"
      },
      "source": [
        "## Lists  \n",
        "****\n",
        "- General purpose\n",
        "- Most widely used data structure \n",
        "- Grow and shrink size as needed\n",
        "- Sequence type\n",
        "- Sortable  \n",
        "\n",
        "**constructors** - creating a new list"
      ]
    },
    {
      "cell_type": "code",
      "execution_count": 17,
      "metadata": {
        "id": "sAYkKzh0_ENm",
        "outputId": "c6713cce-3743-45e5-99ca-673acbb508be",
        "colab": {
          "base_uri": "https://localhost:8080/"
        }
      },
      "outputs": [
        {
          "output_type": "stream",
          "name": "stdout",
          "text": [
            "[]\n",
            "['a', 25, 'dog', 8.43]\n",
            "<class 'tuple'>\n",
            "<class 'list'>\n",
            "[0, 1, 2, 3, 4, 5, 6, 7]\n",
            "[25, 36, 49, 64, 81]\n"
          ]
        }
      ],
      "source": [
        "x = list()\n",
        "print(x)\n",
        "y = ['a', 25, 'dog', 8.43]\n",
        "print(y)\n",
        "tuple1 = (10, 20)\n",
        "print(type(tuple1))\n",
        "z = list(tuple1)\n",
        "print(type(z))\n",
        "\n",
        "\n",
        "# list comprehension\n",
        "a = [m for m in range(8)]\n",
        "print(a)\n",
        "b = [i**2 for i in range(10) if i>4]\n",
        "print(b)"
      ]
    },
    {
      "cell_type": "markdown",
      "metadata": {
        "id": "3CyPyUge_ENm"
      },
      "source": [
        "**delete** - delete a list or an item in a list"
      ]
    },
    {
      "cell_type": "code",
      "execution_count": 18,
      "metadata": {
        "id": "cHCl0V7R_ENm",
        "outputId": "9ad745a7-6ada-4a0d-a1e9-a5f9ebdee3bf",
        "colab": {
          "base_uri": "https://localhost:8080/"
        }
      },
      "outputs": [
        {
          "output_type": "stream",
          "name": "stdout",
          "text": [
            "[5, 8, 6]\n"
          ]
        }
      ],
      "source": [
        "x = [5, 3, 8, 6]\n",
        "del(x[1])\n",
        "print(x)\n",
        "del(x)    # list x no longer exists"
      ]
    },
    {
      "cell_type": "markdown",
      "metadata": {
        "id": "W_gKokbH_ENm"
      },
      "source": [
        "**append** - append an item to a list"
      ]
    },
    {
      "cell_type": "code",
      "execution_count": 19,
      "metadata": {
        "id": "PVG_Xl4S_ENm",
        "outputId": "42614631-a180-4bf7-b539-3414c6f0170c",
        "colab": {
          "base_uri": "https://localhost:8080/"
        }
      },
      "outputs": [
        {
          "output_type": "stream",
          "name": "stdout",
          "text": [
            "[5, 3, 8, 6, 7]\n"
          ]
        }
      ],
      "source": [
        "x = [5, 3, 8, 6]\n",
        "x.append(7)\n",
        "print(x)"
      ]
    },
    {
      "cell_type": "markdown",
      "metadata": {
        "id": "A3c2Y3AK_ENm"
      },
      "source": [
        "**extend** - append a sequence to a list"
      ]
    },
    {
      "cell_type": "code",
      "execution_count": 20,
      "metadata": {
        "id": "rRPP5XXJ_ENm",
        "outputId": "76980ebe-d50a-4a7d-b676-b0222f3f808e",
        "colab": {
          "base_uri": "https://localhost:8080/"
        }
      },
      "outputs": [
        {
          "output_type": "stream",
          "name": "stdout",
          "text": [
            "[5, 3, 8, 6, 12, 13]\n"
          ]
        }
      ],
      "source": [
        "x = [5, 3, 8, 6]\n",
        "y = [12, 13]\n",
        "x.extend(y)\n",
        "print(x)"
      ]
    },
    {
      "cell_type": "markdown",
      "metadata": {
        "id": "VgzPL32D_ENm"
      },
      "source": [
        "**insert** - insert an item at a given index"
      ]
    },
    {
      "cell_type": "code",
      "execution_count": 21,
      "metadata": {
        "id": "SQWauFnA_ENm",
        "outputId": "68b4dc42-dd73-4440-9311-40104b57f191",
        "colab": {
          "base_uri": "https://localhost:8080/"
        }
      },
      "outputs": [
        {
          "output_type": "stream",
          "name": "stdout",
          "text": [
            "[5, 7, 3, 8, 6]\n",
            "[5, ['a', 'm'], 7, 3, 8, 6]\n"
          ]
        }
      ],
      "source": [
        "x = [5, 3, 8, 6]\n",
        "x.insert(1, 7)\n",
        "print(x)\n",
        "x.insert(1, ['a', 'm'])\n",
        "print(x)"
      ]
    },
    {
      "cell_type": "markdown",
      "metadata": {
        "id": "vtoXkIaC_ENn"
      },
      "source": [
        "**pop** - pops last item off list and returns item"
      ]
    },
    {
      "cell_type": "code",
      "execution_count": 23,
      "metadata": {
        "id": "OqttGVCb_ENn",
        "outputId": "0d7f8512-343a-4673-919f-f11909b14f6b",
        "colab": {
          "base_uri": "https://localhost:8080/"
        }
      },
      "outputs": [
        {
          "output_type": "stream",
          "name": "stdout",
          "text": [
            "[5, 3, 8]\n",
            "8\n",
            "[5, 3]\n"
          ]
        }
      ],
      "source": [
        "x = [5, 3, 8, 6]\n",
        "x.pop()    # pop off the 6\n",
        "print(x)\n",
        "print(x.pop())\n",
        "print(x)"
      ]
    },
    {
      "cell_type": "markdown",
      "metadata": {
        "id": "zMf0FEXW_ENn"
      },
      "source": [
        "**remove** - remove first instance of an item"
      ]
    },
    {
      "cell_type": "code",
      "execution_count": 26,
      "metadata": {
        "id": "p37Gteo-_ENn",
        "outputId": "a8a868aa-2e05-4e29-9156-60e8b3a4fb78",
        "colab": {
          "base_uri": "https://localhost:8080/"
        }
      },
      "outputs": [
        {
          "output_type": "stream",
          "name": "stdout",
          "text": [
            "[5, 8, 6, 3]\n"
          ]
        }
      ],
      "source": [
        "x = [5, 3, 8, 6, 3]\n",
        "x.remove(3)\n",
        "print(x)"
      ]
    },
    {
      "cell_type": "markdown",
      "metadata": {
        "id": "mQmoyzgt_ENn"
      },
      "source": [
        "**reverse** - reverse the order of the list. It is an in-place sort, meaning it changes the original list."
      ]
    },
    {
      "cell_type": "code",
      "execution_count": 25,
      "metadata": {
        "id": "WApWfryu_ENn",
        "outputId": "595c5b0e-81b0-4b71-da3d-e5712b74578c",
        "colab": {
          "base_uri": "https://localhost:8080/"
        }
      },
      "outputs": [
        {
          "output_type": "stream",
          "name": "stdout",
          "text": [
            "[6, 8, 3, 5]\n"
          ]
        }
      ],
      "source": [
        "x = [5, 3, 8, 6]\n",
        "x.reverse()\n",
        "print(x)"
      ]
    },
    {
      "cell_type": "markdown",
      "metadata": {
        "id": "UjPrLkWa_ENn"
      },
      "source": [
        "**sort** - sort the list in place.  \n",
        "Note:  \n",
        "sorted(x) returns a new sorted list without changing the original list x.  \n",
        "x.sort() puts the items of x in sorted order (sorts in place)."
      ]
    },
    {
      "cell_type": "code",
      "execution_count": 27,
      "metadata": {
        "id": "3Oy4LrtQ_ENn",
        "outputId": "ae72210e-ab97-4a74-df3c-90f811d6d701",
        "colab": {
          "base_uri": "https://localhost:8080/"
        }
      },
      "outputs": [
        {
          "output_type": "stream",
          "name": "stdout",
          "text": [
            "[3, 5, 6, 8]\n"
          ]
        }
      ],
      "source": [
        "x = [5, 3, 8, 6]\n",
        "x.sort()\n",
        "print(x)"
      ]
    },
    {
      "cell_type": "markdown",
      "metadata": {
        "id": "tKvLYb4b_ENn"
      },
      "source": [
        "## Tuples\n",
        "****\n",
        "- Immutable (can’t add/change)\n",
        "- Useful for fixed data\n",
        "- Faster than Lists\n",
        "- Sequence type  \n",
        "  \n",
        "**constructors** - creating new tuples."
      ]
    },
    {
      "cell_type": "code",
      "execution_count": 28,
      "metadata": {
        "id": "-7ttUgTA_ENn",
        "outputId": "a4086d7f-d0fe-4033-8654-62d919f7f65e",
        "colab": {
          "base_uri": "https://localhost:8080/"
        }
      },
      "outputs": [
        {
          "output_type": "stream",
          "name": "stdout",
          "text": [
            "(2,) <class 'tuple'>\n",
            "(2, 4, 6) <class 'tuple'>\n"
          ]
        }
      ],
      "source": [
        "x = ()\n",
        "x = (1, 2, 3)\n",
        "x = 1, 2, 3\n",
        "x = 2,    # the comma tells Python it's a tuple\n",
        "print(x, type(x))\n",
        "\n",
        "list1 = [2, 4, 6]\n",
        "x = tuple(list1)\n",
        "print(x, type(x))"
      ]
    },
    {
      "cell_type": "markdown",
      "metadata": {
        "id": "iLg3YrzR_ENn"
      },
      "source": [
        "**tuples are immutable**, but member objects may be mutable."
      ]
    },
    {
      "cell_type": "code",
      "execution_count": null,
      "metadata": {
        "id": "-iW4yJ95_ENn",
        "outputId": "68fd1660-190e-4230-de8a-6adc186b5db7"
      },
      "outputs": [
        {
          "name": "stdout",
          "output_type": "stream",
          "text": [
            "(1, 2, 3)\n",
            "([1], 3)\n"
          ]
        }
      ],
      "source": [
        "x = (1, 2, 3)\n",
        "# del(x[1])       # fails\n",
        "# x[1] = 8        # fails\n",
        "print(x)\n",
        "\n",
        "y = ([1, 2], 3)   # a tuple where the first item is a list\n",
        "del(y[0][1])      # delete the 2\n",
        "print(y)          # the list within the tuple is mutable"
      ]
    },
    {
      "cell_type": "markdown",
      "metadata": {
        "id": "r5difiHc_ENn"
      },
      "source": [
        "## Sets\n",
        "****\n",
        "- Store non-duplicate items  \n",
        "- Very fast access vs Lists  \n",
        "- Math Set ops (union, intersect)  \n",
        "- Sets are Unordered  \n",
        "  \n",
        "**constructors** - creating new sets"
      ]
    },
    {
      "cell_type": "code",
      "execution_count": 29,
      "metadata": {
        "id": "3ry4CEOD_ENn",
        "outputId": "92f9482a-0d07-45d6-e957-e58ce897a649",
        "colab": {
          "base_uri": "https://localhost:8080/"
        }
      },
      "outputs": [
        {
          "output_type": "stream",
          "name": "stdout",
          "text": [
            "{3, 5}\n",
            "set()\n",
            "{2, 3, 4}\n"
          ]
        }
      ],
      "source": [
        "x = {3, 5, 3, 5}\n",
        "print(x)\n",
        "\n",
        "y = set()\n",
        "print(y)\n",
        "\n",
        "list1 = [2, 3, 4]\n",
        "z = set(list1)\n",
        "print(z)"
      ]
    },
    {
      "cell_type": "markdown",
      "metadata": {
        "id": "FAc0sCDM_ENo"
      },
      "source": [
        "**set operations**"
      ]
    },
    {
      "cell_type": "code",
      "execution_count": 30,
      "metadata": {
        "id": "s9IB4j_t_ENo",
        "outputId": "cc387d20-2c55-4879-f21b-7978abf5d9cf",
        "colab": {
          "base_uri": "https://localhost:8080/"
        }
      },
      "outputs": [
        {
          "output_type": "stream",
          "name": "stdout",
          "text": [
            "{8, 3, 5}\n",
            "{8, 3, 5, 7}\n",
            "{8, 5, 7}\n",
            "3\n",
            "True\n",
            "8 {5, 7}\n",
            "set()\n"
          ]
        }
      ],
      "source": [
        "x = {3, 8, 5}\n",
        "print(x)\n",
        "x.add(7)\n",
        "print(x)\n",
        "\n",
        "x.remove(3)\n",
        "print(x)\n",
        "\n",
        "# get length of set x\n",
        "print(len(x))\n",
        "\n",
        "# check membership in x\n",
        "print(5 in x)\n",
        "\n",
        "# pop random item from set x\n",
        "print(x.pop(), x)\n",
        "\n",
        "# delete all items from set x\n",
        "x.clear()\n",
        "print(x)"
      ]
    },
    {
      "cell_type": "markdown",
      "metadata": {
        "id": "v8o4OHXy_ENo"
      },
      "source": [
        "**Mathematical set operations**  \n",
        "intersection (AND): set1 & set2  \n",
        "union (OR): set1 | set1  \n",
        "symmetric difference (XOR): set1 ^ set2\n",
        "difference (in set1 but not set2): set1 - set2  \n",
        "subset (set2 contains set1): set1 <= set2  \n",
        "superset (set1 contains set2): set1 >= set2"
      ]
    },
    {
      "cell_type": "code",
      "execution_count": null,
      "metadata": {
        "id": "GWJ4KON4_ENo",
        "outputId": "fb9248f9-d05f-4938-acee-a0bf6ad1f2af"
      },
      "outputs": [
        {
          "name": "stdout",
          "output_type": "stream",
          "text": [
            "{3}\n",
            "{1, 2, 3, 4, 5}\n",
            "{1, 2, 4, 5}\n",
            "{1, 2}\n",
            "False\n",
            "False\n"
          ]
        }
      ],
      "source": [
        "s1 = {1, 2, 3}\n",
        "s2 = {3, 4, 5}\n",
        "print(s1 & s2)\n",
        "print(s1 | s2)\n",
        "print(s1 ^ s2)\n",
        "print(s1 - s2)\n",
        "print(s1 <= s2)\n",
        "print(s1 >= s2)"
      ]
    },
    {
      "cell_type": "markdown",
      "metadata": {
        "id": "mEiR_QID_ENo"
      },
      "source": [
        "## Dictionaries (dict)\n",
        "****\n",
        "- Key/Value pairs\n",
        "- Associative array, like Java HashMap\n",
        "- Dicts are Unordered"
      ]
    },
    {
      "cell_type": "code",
      "execution_count": null,
      "metadata": {
        "id": "RYb8cRdm_ENo",
        "outputId": "92270304-7a08-4501-8249-12e467fc48a6"
      },
      "outputs": [
        {
          "name": "stdout",
          "output_type": "stream",
          "text": [
            "{'pork': 25.3, 'beef': 33.8, 'chicken': 22.7}\n",
            "{'pork': 25.3, 'beef': 33.8, 'chicken': 22.7}\n",
            "{'pork': 25.3, 'beef': 33.8, 'chicken': 22.7}\n"
          ]
        }
      ],
      "source": [
        "x = {'pork':25.3, 'beef':33.8, 'chicken':22.7}\n",
        "print(x)\n",
        "x = dict([('pork', 25.3),('beef', 33.8),('chicken', 22.7)])\n",
        "print(x)\n",
        "x = dict(pork=25.3, beef=33.8, chicken=22.7)\n",
        "print(x)"
      ]
    },
    {
      "cell_type": "markdown",
      "metadata": {
        "id": "IcYKdj6m_ENo"
      },
      "source": [
        "**dict operations**"
      ]
    },
    {
      "cell_type": "code",
      "execution_count": null,
      "metadata": {
        "id": "nbXkWj_g_ENo",
        "outputId": "017e2d90-5163-4939-d898-7b55ff2fcdc5"
      },
      "outputs": [
        {
          "name": "stdout",
          "output_type": "stream",
          "text": [
            "{'pork': 25.3, 'beef': 33.8, 'chicken': 22.7, 'shrimp': 38.2}\n",
            "{'pork': 25.3, 'beef': 33.8, 'chicken': 22.7}\n",
            "3\n",
            "{}\n"
          ]
        }
      ],
      "source": [
        "x['shrimp'] = 38.2    # add or update\n",
        "print(x)\n",
        "\n",
        "# delete an item\n",
        "del(x['shrimp'])\n",
        "print(x)\n",
        "\n",
        "# get length of dict x\n",
        "print(len(x))\n",
        "\n",
        "# delete all items from dict x\n",
        "x.clear()\n",
        "print(x)\n",
        "\n",
        "# delete dict x\n",
        "del(x)"
      ]
    },
    {
      "cell_type": "markdown",
      "metadata": {
        "id": "9BN0D5yK_ENo"
      },
      "source": [
        "**accessing keys and values in a dict**"
      ]
    },
    {
      "cell_type": "code",
      "execution_count": null,
      "metadata": {
        "id": "lAYl69i6_ENo",
        "outputId": "ffca5339-ba82-4742-b7c4-7462a7d9b957"
      },
      "outputs": [
        {
          "name": "stdout",
          "output_type": "stream",
          "text": [
            "dict_keys(['pork', 'beef', 'chicken'])\n",
            "dict_values([25.3, 33.8, 22.7])\n",
            "dict_items([('pork', 25.3), ('beef', 33.8), ('chicken', 22.7)])\n",
            "True\n",
            "False\n"
          ]
        }
      ],
      "source": [
        "y = {'pork':25.3, 'beef':33.8, 'chicken':22.7}\n",
        "print(y.keys())\n",
        "print(y.values())\n",
        "print(y.items())      # key-value pairs\n",
        "\n",
        "# check membership in y_keys (only looks in keys, not values)\n",
        "print('beef' in y)\n",
        "\n",
        "# check membership in y_values\n",
        "print('clams' in y.values())"
      ]
    },
    {
      "cell_type": "markdown",
      "metadata": {
        "id": "mZ-c7yQC_ENo"
      },
      "source": [
        "**iterating a dict - note, items are in random order**"
      ]
    },
    {
      "cell_type": "code",
      "execution_count": null,
      "metadata": {
        "id": "QvHrvT0m_ENo",
        "outputId": "7ad7d3f1-4f72-406b-b8ca-73006dca56de"
      },
      "outputs": [
        {
          "name": "stdout",
          "output_type": "stream",
          "text": [
            "pork 25.3\n",
            "beef 33.8\n",
            "chicken 22.7\n",
            "pork 25.3\n",
            "beef 33.8\n",
            "chicken 22.7\n"
          ]
        }
      ],
      "source": [
        "for key in y:\n",
        "    print(key, y[key])\n",
        "    \n",
        "for k, v in y.items():\n",
        "    print(k, v)"
      ]
    },
    {
      "cell_type": "code",
      "execution_count": null,
      "metadata": {
        "id": "V4PSvKNx_ENo"
      },
      "outputs": [],
      "source": []
    }
  ],
  "metadata": {
    "kernelspec": {
      "display_name": "Python 3",
      "language": "python",
      "name": "python3"
    },
    "language_info": {
      "codemirror_mode": {
        "name": "ipython",
        "version": 3
      },
      "file_extension": ".py",
      "mimetype": "text/x-python",
      "name": "python",
      "nbconvert_exporter": "python",
      "pygments_lexer": "ipython3",
      "version": "3.7.0"
    },
    "colab": {
      "provenance": []
    }
  },
  "nbformat": 4,
  "nbformat_minor": 0
}