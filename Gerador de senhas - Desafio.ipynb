{
 "cells": [
  {
   "cell_type": "markdown",
   "metadata": {},
   "source": [
    "# Gerador de Senhas"
   ]
  },
  {
   "cell_type": "markdown",
   "metadata": {},
   "source": [
    "### Modelo de gerador de senhas - site: https://medium.com/analytics-vidhya/create-a-random-password-generator-using-python-2fea485e9da9"
   ]
  },
  {
   "cell_type": "code",
   "execution_count": null,
   "metadata": {},
   "outputs": [],
   "source": [
    "# Importando as bibliotecas que serão utilizadas\n",
    "import random\n",
    "import string\n",
    "# Abertura do programa e entrada de dados sobre o tamanho da senha\n",
    "print('Olá, Sou o gerador de senhas')\n",
    "tamanho = int(input('Qual é o tamanho da sua senha? '))"
   ]
  },
  {
   "cell_type": "code",
   "execution_count": null,
   "metadata": {},
   "outputs": [],
   "source": [
    "# Carregando os caracteres para gerar as senhas\n",
    "minuscula = string.ascii_lowercase\n",
    "maiuscula = string.ascii_uppercase\n",
    "numeros = string.digits\n",
    "simbolo = string.punctuation"
   ]
  },
  {
   "cell_type": "code",
   "execution_count": null,
   "metadata": {},
   "outputs": [],
   "source": [
    "# Concatenado os caracteres e misturando-os\n",
    "tudo = minuscula + maiuscula + numeros + simbolo\n",
    "temp = random.sample(tudo, tamanho)"
   ]
  },
  {
   "cell_type": "code",
   "execution_count": null,
   "metadata": {},
   "outputs": [],
   "source": [
    "# O temp é uma lista é necessário juntar os elementos com a função join\n",
    "senha = \"\".join(temp)\n",
    "print(senha)"
   ]
  },
  {
   "cell_type": "markdown",
   "metadata": {},
   "source": [
    "### Pequenas modificações - 08/09/2021"
   ]
  },
  {
   "cell_type": "code",
   "execution_count": 6,
   "metadata": {},
   "outputs": [
    {
     "name": "stdout",
     "output_type": "stream",
     "text": [
      "Olá, Sou o gerador de senhas\n",
      "Qual é o tamanho da sua senha? Número de caracteres 12\n",
      "\n",
      "Para a senha ter todos os tipos de caracteres - Maíscula, minúscula, números e símbolos - Digite 0\n",
      "Para a senha ter apenas números, Digite 1\n",
      "Para a senha ter caracteres do tipo minúscula e números, Digite 2\n",
      "Para a senha ter caracteres do tipo maiúscula e minúscula, Digite 3\n",
      "Para a senha ter caracteres do tipo minúscula, números e símbolos, Digite 4\n",
      "Qual é o tipo de senha? Digite de 0 a 4 0\n",
      "A senha é:\n",
      "4Jye]l[hLH?O\n"
     ]
    }
   ],
   "source": [
    "import random\n",
    "import string\n",
    "\n",
    "print('Olá, Sou o gerador de senhas')\n",
    "\n",
    "tamanho = int(input('Qual é o tamanho da sua senha? Número de caracteres '))\n",
    "print(\"\")\n",
    "print(\"Para a senha ter todos os tipos de caracteres - Maíscula, minúscula, números e símbolos - Digite 0\")\n",
    "print(\"Para a senha ter apenas números, Digite 1\")\n",
    "print(\"Para a senha ter caracteres do tipo minúscula e números, Digite 2\")\n",
    "print(\"Para a senha ter caracteres do tipo maiúscula e minúscula, Digite 3\")\n",
    "print(\"Para a senha ter caracteres do tipo minúscula, números e símbolos, Digite 4\")\n",
    "tipo = int(input(\"Qual é o tipo de senha? Digite de 0 a 4 \"))\n",
    "\n",
    "# Carregando os caracteres para gerar as senhas\n",
    "minuscula = string.ascii_lowercase\n",
    "maiuscula = string.ascii_uppercase\n",
    "numeros = string.digits\n",
    "simbolo = string.punctuation\n",
    "\n",
    "if tipo == 0:\n",
    "    tudo = minuscula + maiuscula + numeros + simbolo\n",
    "elif tipo == 1:\n",
    "    tudo = numeros\n",
    "elif tipo == 2:\n",
    "    tudo = minuscula + numeros\n",
    "elif tipo == 3:\n",
    "    tudo = minuscula + maiuscula\n",
    "elif tipo == 4:\n",
    "    tudo = minuscula + numeros + simbolo\n",
    "else:\n",
    "    print(\"Escolha um tipo válido\")\n",
    "    \n",
    "temp = random.choices(tudo, k=tamanho)\n",
    "senha = \"\".join(temp)\n",
    "print(\"A senha é:\")\n",
    "print(senha)"
   ]
  },
  {
   "cell_type": "code",
   "execution_count": null,
   "metadata": {},
   "outputs": [],
   "source": []
  }
 ],
 "metadata": {
  "kernelspec": {
   "display_name": "Python 3",
   "language": "python",
   "name": "python3"
  }
 },
 "nbformat": 4,
 "nbformat_minor": 4
}
