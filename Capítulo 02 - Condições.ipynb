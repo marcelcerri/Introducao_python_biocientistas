{
 "cells": [
  {
   "cell_type": "markdown",
   "metadata": {},
   "source": [
    "# Condições"
   ]
  },
  {
   "cell_type": "markdown",
   "metadata": {},
   "source": [
    "## if"
   ]
  },
  {
   "cell_type": "markdown",
   "metadata": {},
   "source": [
    "As condições servem para selecionar quando uma parte do programa deve ser ativada e quando deve ser simplesmente ignorada."
   ]
  },
  {
   "cell_type": "code",
   "execution_count": 3,
   "metadata": {},
   "outputs": [
    {
     "name": "stdout",
     "output_type": "stream",
     "text": [
      "Entre com um número: 10\n",
      "Entre com um segundo número: 2\n",
      "O primeiro valor é maior.\n"
     ]
    }
   ],
   "source": [
    "# Exemplo de uso de if\n",
    "a = int(input(\"Entre com um número: \"))\n",
    "b = int(input(\"Entre com um segundo número: \"))\n",
    "if a > b:\n",
    "    print(\"O primeiro valor é maior.\")\n",
    "if b > a:\n",
    "    print(\"O segundo valor é maior.\")"
   ]
  },
  {
   "cell_type": "code",
   "execution_count": 5,
   "metadata": {},
   "outputs": [
    {
     "name": "stdout",
     "output_type": "stream",
     "text": [
      "Entre com um número: 50\n",
      "Entre com um segundo número: 2\n",
      "O primeiro valor é maior.\n"
     ]
    }
   ],
   "source": [
    "# Exemplo de uso de if com else\n",
    "a = int(input(\"Entre com um número: \"))\n",
    "b = int(input(\"Entre com um segundo número: \"))\n",
    "if a > b:\n",
    "    print(\"O primeiro valor é maior.\")\n",
    "else:\n",
    "    print(\"O segundo valor é maior.\")"
   ]
  },
  {
   "cell_type": "code",
   "execution_count": 6,
   "metadata": {},
   "outputs": [
    {
     "name": "stdout",
     "output_type": "stream",
     "text": [
      "Entre com um valor inteiro: 10\n",
      "par\n"
     ]
    }
   ],
   "source": [
    "# Exemplo de par ou ímpar\n",
    "numero = int(input(\"Entre com um valor inteiro: \"))\n",
    "\n",
    "if numero % 2 == 0:\n",
    "    print(\"par\")\n",
    "else:\n",
    "    print(\"ímpar.\")"
   ]
  },
  {
   "cell_type": "code",
   "execution_count": 7,
   "metadata": {},
   "outputs": [
    {
     "name": "stdout",
     "output_type": "stream",
     "text": [
      "Entre com o valor de a: 10\n",
      "Entre com o valor de b: 2\n",
      "Entre com o valor de c: 3\n",
      "esta equação não possui raízes reais\n"
     ]
    }
   ],
   "source": [
    "\"\"\"\n",
    "Solução das raízes de uma equação de segundo grau\n",
    "y = ax**2 + bx + c\n",
    "Entrando com os valores de a, b e c o programa calcula as raízes \n",
    "\"\"\"\n",
    "#Entrada de dados\n",
    "a = float(input(\"Entre com o valor de a: \"))\n",
    "b = float(input(\"Entre com o valor de b: \"))\n",
    "c = float(input(\"Entre com o valor de c: \"))\n",
    "# Cálculo de Delta\n",
    "Delta = b**2 - 4*a*c\n",
    "\n",
    "if Delta < 0:\n",
    "    print(\"esta equação não possui raízes reais\")\n",
    "elif Delta == 0:\n",
    "    raiz = -b/(2*a)\n",
    "    print(\"a raíz desta equação é\", raiz)\n",
    "else:\n",
    "    raiz_1 = (-b - (Delta**0.5)) / (2 * a)\n",
    "    raiz_2 = (-b + (Delta**0.5)) / (2 * a)\n",
    "    if raiz_1 < raiz_2:\n",
    "        print(\"as raízes da equação são\", raiz_1,\"e\", raiz_2)\n",
    "    else:\n",
    "        print(\"as raízes da equação são\", raiz_2,\"e\", raiz_1)"
   ]
  },
  {
   "cell_type": "markdown",
   "metadata": {},
   "source": [
    "### Estruturas aninhadas"
   ]
  },
  {
   "cell_type": "code",
   "execution_count": 10,
   "metadata": {},
   "outputs": [
    {
     "name": "stdout",
     "output_type": "stream",
     "text": [
      "Quantos minutos você utilizou o telefone este mês: 10\n",
      "Você vai pagar este mês: R$  2.00\n"
     ]
    }
   ],
   "source": [
    "# Conta de telefone com três faixas de preço\n",
    "min = int(input(\"Quantos minutos você utilizou o telefone este mês: \"))\n",
    "if min < 200:\n",
    "    preco = 0.20\n",
    "else:\n",
    "    if min < 400:\n",
    "        preco = 0.18\n",
    "    else:\n",
    "        preco = 0.15\n",
    "\n",
    "print(f\"Você vai pagar este mês: R${min * preco:6.2f}\") # outra maneira de imprimir o resultado\n"
   ]
  },
  {
   "cell_type": "code",
   "execution_count": 11,
   "metadata": {},
   "outputs": [
    {
     "name": "stdout",
     "output_type": "stream",
     "text": [
      "Entre com um número: -1\n",
      "Número negativo\n"
     ]
    }
   ],
   "source": [
    "# Exemplo de número zero, positivo ou negativo\n",
    "num = float(input(\"Entre com um número: \"))\n",
    "if num >= 0:\n",
    "    if num == 0:\n",
    "        print(\"Zero\")\n",
    "    else:\n",
    "        print(\"Número positivo\")\n",
    "else:\n",
    "    print(\"Número negativo\")"
   ]
  },
  {
   "cell_type": "code",
   "execution_count": 14,
   "metadata": {},
   "outputs": [
    {
     "name": "stdout",
     "output_type": "stream",
     "text": [
      "Digite a categoria do produto: 1\n",
      "O preço do produto é: R$ 10.00\n"
     ]
    }
   ],
   "source": [
    "# Categoria x Preço usando o elif\n",
    "cat = int(input(\"Digite a categoria do produto: \"))\n",
    "if cat == 1:\n",
    "    preco = 10\n",
    "elif cat == 2:\n",
    "    preco = 18\n",
    "elif cat == 3:\n",
    "    preco = 23\n",
    "elif cat == 4:\n",
    "    preco = 26\n",
    "elif cat == 5:\n",
    "    preco = 31\n",
    "else:\n",
    "    print('Categoria inválida, digite uma valor de 1 a 5')\n",
    "    preco = 0\n",
    "    \n",
    "print(f\"O preço do produto é: R${preco:6.2f}\")"
   ]
  },
  {
   "cell_type": "markdown",
   "metadata": {},
   "source": [
    "## Repetições"
   ]
  },
  {
   "cell_type": "markdown",
   "metadata": {},
   "source": [
    "Repetições representam a base de vários programas. São utilizadas para executar a parte de um programa várias vezes. Por exemplo imprimir na tela a sequencia de números de 1 a 15."
   ]
  },
  {
   "cell_type": "code",
   "execution_count": 16,
   "metadata": {},
   "outputs": [
    {
     "name": "stdout",
     "output_type": "stream",
     "text": [
      "1\n",
      "2\n",
      "3\n",
      "4\n",
      "5\n",
      "6\n",
      "7\n",
      "8\n",
      "9\n",
      "10\n",
      "11\n",
      "12\n",
      "13\n",
      "14\n",
      "15\n"
     ]
    }
   ],
   "source": [
    "x = 1\n",
    "while x <= 15:\n",
    "    print(x)\n",
    "    x = x + 1"
   ]
  },
  {
   "cell_type": "code",
   "execution_count": 18,
   "metadata": {},
   "outputs": [
    {
     "name": "stdout",
     "output_type": "stream",
     "text": [
      "Dentro do while\n",
      "Dentro do while\n",
      "Dentro do while\n",
      "Dentro do while\n",
      "Dentro do else\n"
     ]
    }
   ],
   "source": [
    "#Exemplo para ilustrar\n",
    "contador = 0\n",
    "\n",
    "while contador < 4:\n",
    "    print(\"Dentro do while\")\n",
    "    contador = contador + 1\n",
    "else:\n",
    "    print(\"Dentro do else\")"
   ]
  },
  {
   "cell_type": "code",
   "execution_count": 25,
   "metadata": {},
   "outputs": [
    {
     "name": "stdout",
     "output_type": "stream",
     "text": [
      "Dentro do while\n",
      "Dentro do while\n",
      "Dentro do while\n",
      "Dentro do while\n",
      "Dentro do else\n"
     ]
    }
   ],
   "source": [
    "#Exemplo para ilustrar - maneira de simplicar o contador\n",
    "contador = 0\n",
    "\n",
    "while contador < 4:\n",
    "    print(\"Dentro do while\")\n",
    "    contador += 1\n",
    "else:\n",
    "    print(\"Dentro do else\")"
   ]
  },
  {
   "cell_type": "markdown",
   "metadata": {},
   "source": [
    "### Exercícios"
   ]
  },
  {
   "cell_type": "markdown",
   "metadata": {},
   "source": [
    "Faça um programa para escrever a contagem regressiva do lançamento de um foguete. O programa deve imprimir 10, 9, 8, 7,...1, 0 e Fogo! na tela"
   ]
  },
  {
   "cell_type": "code",
   "execution_count": 3,
   "metadata": {},
   "outputs": [
    {
     "name": "stdout",
     "output_type": "stream",
     "text": [
      "10\n",
      "9\n",
      "8\n",
      "7\n",
      "6\n",
      "5\n",
      "4\n",
      "3\n",
      "2\n",
      "1\n",
      "0\n",
      "Fogo!!\n"
     ]
    }
   ],
   "source": [
    "#Exemplo para ilustrar\n",
    "contador = 10\n",
    "\n",
    "while contador >= 0:\n",
    "    print(contador)\n",
    "    contador = contador - 1\n",
    "else:\n",
    "    print(\"Fogo!!\")"
   ]
  },
  {
   "cell_type": "markdown",
   "metadata": {},
   "source": [
    "### Acumuladores"
   ]
  },
  {
   "cell_type": "code",
   "execution_count": 6,
   "metadata": {},
   "outputs": [
    {
     "name": "stdout",
     "output_type": "stream",
     "text": [
      "Entre com o valor inicial: 0\n",
      "Entre com o valor final: 10\n",
      "6\n"
     ]
    }
   ],
   "source": [
    "# Este exemplo conta quantos números pares tem dentro de um intervalo, o contador é um acumulador e o num1 é um contador\n",
    "num1 = int(input('Entre com o valor inicial: '))\n",
    "num2 = int(input('Entre com o valor final: '))\n",
    "contador_pares = 0\n",
    "while num1 <= num2:\n",
    "    if num1 % 2 == 0:\n",
    "        contador_pares = contador_pares + 1\n",
    "    num1 = num1 + 1\n",
    "print(contador_pares)"
   ]
  },
  {
   "cell_type": "code",
   "execution_count": 9,
   "metadata": {},
   "outputs": [
    {
     "name": "stdout",
     "output_type": "stream",
     "text": [
      "Entre com um valor inteiro: 6\n",
      "O valor do fatorial de 6 é 720\n"
     ]
    }
   ],
   "source": [
    "# Calcula o fatorial de um número inteiro positivo, resultado é um acumulador e n é o contador\n",
    "\n",
    "n = int(input(\"Entre com um valor inteiro: \"))\n",
    "num = n\n",
    "resultado = 1\n",
    "\n",
    "if n < 0:\n",
    "    print(\"Não é possível calcular fatorial de números negativos\")\n",
    "elif n == 0:\n",
    "    print(\"O fatorial de 0 é 1\")\n",
    "else:\n",
    "    while n > 1:\n",
    "        resultado = resultado * n \n",
    "        n = n -1\n",
    "    print(\"O valor do fatorial de\", num, \"é\", resultado)"
   ]
  },
  {
   "cell_type": "markdown",
   "metadata": {},
   "source": [
    "### Interrompendo a repetição"
   ]
  },
  {
   "cell_type": "code",
   "execution_count": 10,
   "metadata": {},
   "outputs": [
    {
     "name": "stdout",
     "output_type": "stream",
     "text": [
      "Digite um número para somar ou 0 para sair: 10\n",
      "Digite um número para somar ou 0 para sair: 20\n",
      "Digite um número para somar ou 0 para sair: 30\n",
      "Digite um número para somar ou 0 para sair: 40\n",
      "Digite um número para somar ou 0 para sair: 10\n",
      "Digite um número para somar ou 0 para sair: 15\n",
      "Digite um número para somar ou 0 para sair: 22\n",
      "Digite um número para somar ou 0 para sair: 23\n",
      "Digite um número para somar ou 0 para sair: 0\n",
      "170\n"
     ]
    }
   ],
   "source": [
    "# Calculadora de somar, inserindo o conceito de break\n",
    "soma = 0\n",
    "while True:\n",
    "    valor = int(input(\"Digite um número para somar ou 0 para sair: \"))\n",
    "    if valor == 0:\n",
    "        break\n",
    "    soma = soma + valor\n",
    "print(soma)"
   ]
  },
  {
   "cell_type": "markdown",
   "metadata": {},
   "source": [
    "#### Exercício"
   ]
  },
  {
   "cell_type": "markdown",
   "metadata": {},
   "source": [
    "Escreva um programa que leia números inteiros do teclado. O programa deve ler os números até que o usuário digite 0 (zero). No final da execução, exiba a quantidade de número digitados, assim como a soma e a média aritmética."
   ]
  },
  {
   "cell_type": "code",
   "execution_count": 1,
   "metadata": {},
   "outputs": [
    {
     "name": "stdout",
     "output_type": "stream",
     "text": [
      "Digite um número para somar ou 0 para sair: 5\n",
      "Digite um número para somar ou 0 para sair: 98\n",
      "Digite um número para somar ou 0 para sair: 100\n",
      "Digite um número para somar ou 0 para sair: 56\n",
      "Digite um número para somar ou 0 para sair: 454\n",
      "Digite um número para somar ou 0 para sair: 0\n",
      "A soma dos números digitados foi 713\n",
      "O número de valores digitados foi 5\n",
      "A média aritmética dos números digitados foi 142.6\n"
     ]
    }
   ],
   "source": [
    "# Calculadora de somar e média\n",
    "soma = 0\n",
    "n = 0 \n",
    "while True:\n",
    "    valor = int(input(\"Digite um número para somar ou 0 para sair: \"))\n",
    "    if valor == 0:\n",
    "        break\n",
    "    soma = soma + valor\n",
    "    n = n + 1\n",
    "print(\"A soma dos números digitados foi \" + str(soma))\n",
    "print(\"O número de valores digitados foi \" + str(n))\n",
    "print(\"A média aritmética dos números digitados foi \"+ str(soma/n))"
   ]
  },
  {
   "cell_type": "markdown",
   "metadata": {},
   "source": [
    "3 maneiras de escrever o mesmo código"
   ]
  },
  {
   "cell_type": "code",
   "execution_count": 1,
   "metadata": {},
   "outputs": [
    {
     "name": "stdout",
     "output_type": "stream",
     "text": [
      "vermelho\n",
      "verde\n",
      "azul\n",
      "amarelo\n"
     ]
    }
   ],
   "source": [
    "# Usando o while\n",
    "cor = [\"vermelho\", \"verde\", \"azul\", \"amarelo\"]\n",
    "i = 0\n",
    "while i < len(cor):\n",
    "    print(cor[i])\n",
    "    i += 1"
   ]
  },
  {
   "cell_type": "code",
   "execution_count": 2,
   "metadata": {},
   "outputs": [
    {
     "name": "stdout",
     "output_type": "stream",
     "text": [
      "vermelho\n",
      "verde\n",
      "azul\n",
      "amarelo\n"
     ]
    }
   ],
   "source": [
    "# Usando for e range\n",
    "cor = [\"vermelho\", \"verde\", \"azul\", \"amarelo\"]\n",
    "for i in range(len(cor)):\n",
    "    print(cor[i])"
   ]
  },
  {
   "cell_type": "code",
   "execution_count": 4,
   "metadata": {},
   "outputs": [
    {
     "name": "stdout",
     "output_type": "stream",
     "text": [
      "vermelho\n",
      "verde\n",
      "azul\n",
      "amarelo\n"
     ]
    }
   ],
   "source": [
    "# Simplificando\n",
    "cor = [\"vermelho\", \"verde\", \"azul\", \"amarelo\"]\n",
    "for i in cor:\n",
    "    print(i)"
   ]
  },
  {
   "cell_type": "code",
   "execution_count": 3,
   "metadata": {},
   "outputs": [
    {
     "data": {
      "text/plain": [
       "[<matplotlib.lines.Line2D at 0x1e108cb0780>]"
      ]
     },
     "execution_count": 3,
     "metadata": {},
     "output_type": "execute_result"
    },
    {
     "data": {
      "image/png": "[encoded data removed]",
      "text/plain": [
       "<Figure size 432x288 with 1 Axes>"
      ]
     },
     "metadata": {
      "needs_background": "light"
     },
     "output_type": "display_data"
    }
   ],
   "source": [
    "import matplotlib.pyplot as plt\n",
    "import numpy as np\n",
    "\n",
    "x = np.arange(1,10,0.1)\n",
    "y = np.sin(x)\n",
    "plt.plot(x,y)"
   ]
  },
  {
   "cell_type": "code",
   "execution_count": null,
   "metadata": {},
   "outputs": [],
   "source": []
  }
 ],
 "metadata": {
  "kernelspec": {
   "display_name": "Python 3",
   "language": "python",
   "name": "python3"
  },
  "language_info": {
   "codemirror_mode": {
    "name": "ipython",
    "version": 3
   },
   "file_extension": ".py",
   "mimetype": "text/x-python",
   "name": "python",
   "nbconvert_exporter": "python",
   "pygments_lexer": "ipython3",
   "version": "3.8.3"
  }
 },
 "nbformat": 4,
 "nbformat_minor": 2
}
